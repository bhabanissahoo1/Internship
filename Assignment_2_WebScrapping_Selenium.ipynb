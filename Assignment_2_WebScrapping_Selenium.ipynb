{
 "cells": [
  {
   "cell_type": "markdown",
   "id": "982c4536",
   "metadata": {},
   "source": [
    "## Question 1"
   ]
  },
  {
   "cell_type": "code",
   "execution_count": 8,
   "id": "7237b76b",
   "metadata": {},
   "outputs": [],
   "source": [
    "# Import Requird Libraries\n",
    "import selenium\n",
    "import pandas as pd\n",
    "from selenium import webdriver\n",
    "\n",
    "import warnings\n",
    "warnings.filterwarnings('ignore')"
   ]
  },
  {
   "cell_type": "code",
   "execution_count": 9,
   "id": "c57eaf3b",
   "metadata": {},
   "outputs": [],
   "source": [
    "# Initialize Chrome Web Driver\n",
    "driver = webdriver.Chrome(r\"C:\\Users\\Bhabani\\Downloads\\chromedriver_win32\\chromedriver.exe\")"
   ]
  },
  {
   "cell_type": "code",
   "execution_count": 10,
   "id": "1138ce6c",
   "metadata": {},
   "outputs": [],
   "source": [
    "# Open Naukri Portal https://www.naukri.com/\n",
    "driver.get(\"https://www.naukri.com/\")"
   ]
  },
  {
   "cell_type": "code",
   "execution_count": 11,
   "id": "10e8bbcf",
   "metadata": {},
   "outputs": [],
   "source": [
    "# Find Search Job input field by id\n",
    "search_job=driver.find_element_by_id(\"qsb-keyword-sugg\")\n",
    "# Input text \"Data Analyst\"\n",
    "search_job.send_keys(\"Data Analyst\")\n",
    "#  Find location field element by xpath\n",
    "search_loc=driver.find_element_by_xpath(\"//input[@id='qsb-location-sugg']\")\n",
    "# Input text \"Bangalore\"\n",
    "search_loc.send_keys(\"Bangalore\")"
   ]
  },
  {
   "cell_type": "code",
   "execution_count": 12,
   "id": "aaa9cfb7",
   "metadata": {},
   "outputs": [],
   "source": [
    "# Find Search Button and click on it\n",
    "search_btn=driver.find_element_by_xpath(\"//div[@class='search-btn']/button\")\n",
    "search_btn.click()"
   ]
  },
  {
   "cell_type": "code",
   "execution_count": 13,
   "id": "8a259cae",
   "metadata": {},
   "outputs": [],
   "source": [
    "# Initialise the Job search list for titles,company,location and experience\n",
    "job_list=[]\n",
    "company_list=[]\n",
    "locations_list=[]\n",
    "experience_list=[]\n",
    "\n",
    "chatbot=driver.find_element_by_xpath(\"//div[@class='crossIcon chatBot chatBot-ic-cross']\")\n",
    "chatbot.click()"
   ]
  },
  {
   "cell_type": "code",
   "execution_count": 14,
   "id": "d7e80d25",
   "metadata": {},
   "outputs": [
    {
     "data": {
      "text/plain": [
       "[<selenium.webdriver.remote.webelement.WebElement (session=\"8b3b05498dc786e3dd023f24400acd46\", element=\"3620de11-3694-4315-a7eb-c887303d11ae\")>,\n",
       " <selenium.webdriver.remote.webelement.WebElement (session=\"8b3b05498dc786e3dd023f24400acd46\", element=\"43b867d6-6c6a-4079-a9f7-a644342d4383\")>,\n",
       " <selenium.webdriver.remote.webelement.WebElement (session=\"8b3b05498dc786e3dd023f24400acd46\", element=\"867ff8f4-7717-431a-8303-8933e32bf7fe\")>,\n",
       " <selenium.webdriver.remote.webelement.WebElement (session=\"8b3b05498dc786e3dd023f24400acd46\", element=\"1ca918fb-a3f0-49b6-8150-7da78184aba7\")>,\n",
       " <selenium.webdriver.remote.webelement.WebElement (session=\"8b3b05498dc786e3dd023f24400acd46\", element=\"942a52cd-6c29-4910-a1f2-15e4cb3d079e\")>,\n",
       " <selenium.webdriver.remote.webelement.WebElement (session=\"8b3b05498dc786e3dd023f24400acd46\", element=\"11f2a858-5076-4a5f-8823-94381dc08417\")>,\n",
       " <selenium.webdriver.remote.webelement.WebElement (session=\"8b3b05498dc786e3dd023f24400acd46\", element=\"3f342b02-4102-4290-b415-0899861e920a\")>,\n",
       " <selenium.webdriver.remote.webelement.WebElement (session=\"8b3b05498dc786e3dd023f24400acd46\", element=\"52d586fa-4d43-4292-ae1f-90d506a7869d\")>,\n",
       " <selenium.webdriver.remote.webelement.WebElement (session=\"8b3b05498dc786e3dd023f24400acd46\", element=\"e67c501d-cdd0-4194-8ed6-2c98566cb4ed\")>,\n",
       " <selenium.webdriver.remote.webelement.WebElement (session=\"8b3b05498dc786e3dd023f24400acd46\", element=\"f5bd0865-3138-4e28-a7be-6120f1a78d96\")>]"
      ]
     },
     "execution_count": 14,
     "metadata": {},
     "output_type": "execute_result"
    }
   ],
   "source": [
    "# Find the all the tags for the Job title via xpath and print to check\n",
    "title_tags=driver.find_elements_by_xpath(\"//a[@class='title fw500 ellipsis']\")\n",
    "title_tags[0:10]"
   ]
  },
  {
   "cell_type": "code",
   "execution_count": 15,
   "id": "c4f613d9",
   "metadata": {},
   "outputs": [
    {
     "data": {
      "text/plain": [
       "['Senior Business Data Analyst',\n",
       " 'Data Analyst - Flipkart Analytics',\n",
       " 'Business Data Analyst - Database Design/Mining',\n",
       " 'Urgent Openings For Data Analyst / Business Analyst',\n",
       " 'Data Analyst',\n",
       " 'Business Data Analyst(BigId) - Capco - Bangalore',\n",
       " 'Senior Data Analyst',\n",
       " 'DATA ANALYST',\n",
       " 'Data Analyst',\n",
       " 'Data Analyst - Marketing']"
      ]
     },
     "execution_count": 15,
     "metadata": {},
     "output_type": "execute_result"
    }
   ],
   "source": [
    "# From the title tags get the text data in a loop and then print to check\n",
    "for i in title_tags:\n",
    "    job_list.append(i.text)\n",
    "job_list[0:10]"
   ]
  },
  {
   "cell_type": "code",
   "execution_count": 16,
   "id": "68c77a22",
   "metadata": {},
   "outputs": [
    {
     "data": {
      "text/plain": [
       "[<selenium.webdriver.remote.webelement.WebElement (session=\"8b3b05498dc786e3dd023f24400acd46\", element=\"81f99f60-a58e-46c8-b476-e6aefd522d53\")>,\n",
       " <selenium.webdriver.remote.webelement.WebElement (session=\"8b3b05498dc786e3dd023f24400acd46\", element=\"6da323ba-1432-4629-94e3-6429e34ae779\")>,\n",
       " <selenium.webdriver.remote.webelement.WebElement (session=\"8b3b05498dc786e3dd023f24400acd46\", element=\"de528314-72a0-4400-8761-c895baf8dbee\")>,\n",
       " <selenium.webdriver.remote.webelement.WebElement (session=\"8b3b05498dc786e3dd023f24400acd46\", element=\"664778a7-0d74-4441-a80e-a238c6283533\")>,\n",
       " <selenium.webdriver.remote.webelement.WebElement (session=\"8b3b05498dc786e3dd023f24400acd46\", element=\"a651240d-3d5d-4eda-b2a6-fe59e9b99a48\")>,\n",
       " <selenium.webdriver.remote.webelement.WebElement (session=\"8b3b05498dc786e3dd023f24400acd46\", element=\"ca43e6d3-0188-4a8d-83e5-a15a56fb0f1a\")>,\n",
       " <selenium.webdriver.remote.webelement.WebElement (session=\"8b3b05498dc786e3dd023f24400acd46\", element=\"77e21428-62ef-483e-bbc9-5e3cb79e12f9\")>,\n",
       " <selenium.webdriver.remote.webelement.WebElement (session=\"8b3b05498dc786e3dd023f24400acd46\", element=\"8f27eb4f-4922-40ce-9514-4d4146329310\")>,\n",
       " <selenium.webdriver.remote.webelement.WebElement (session=\"8b3b05498dc786e3dd023f24400acd46\", element=\"18468793-7993-42b7-b9a6-d510c87df596\")>,\n",
       " <selenium.webdriver.remote.webelement.WebElement (session=\"8b3b05498dc786e3dd023f24400acd46\", element=\"3fd7a026-87e4-45aa-8e74-c8f08c66c70a\")>]"
      ]
     },
     "execution_count": 16,
     "metadata": {},
     "output_type": "execute_result"
    }
   ],
   "source": [
    "# Find the all the tags for the Job Company via xpath and print to check\n",
    "company_tags=driver.find_elements_by_xpath(\"//a[@class='subTitle ellipsis fleft']\")\n",
    "company_tags[0:10]\n"
   ]
  },
  {
   "cell_type": "code",
   "execution_count": 17,
   "id": "4bc1515f",
   "metadata": {},
   "outputs": [
    {
     "data": {
      "text/plain": [
       "['Tech Data Advanced Solutions India Pvt Ltd',\n",
       " 'Flipkart',\n",
       " 'AugmatrixGo',\n",
       " 'Flipkart',\n",
       " 'Rupeek Fintech Pvt Ltd',\n",
       " 'Capco Technologies Pvt Ltd',\n",
       " 'ShieldSquare _x001A_',\n",
       " 'McAfee',\n",
       " 'CINDREBAY SCHOOL OF FASHION & INTERIOR DESIGN',\n",
       " 'Capco Technologies Pvt Ltd']"
      ]
     },
     "execution_count": 17,
     "metadata": {},
     "output_type": "execute_result"
    }
   ],
   "source": [
    "# From the company tags get the text data in a loop and then print to check\n",
    "\n",
    "for i in company_tags:\n",
    "    company_list.append(i.text)\n",
    "company_list[0:10]"
   ]
  },
  {
   "cell_type": "code",
   "execution_count": 18,
   "id": "ed21c91b",
   "metadata": {},
   "outputs": [
    {
     "data": {
      "text/plain": [
       "[<selenium.webdriver.remote.webelement.WebElement (session=\"8b3b05498dc786e3dd023f24400acd46\", element=\"6ee6730a-5214-4ac8-af19-b8606384027f\")>,\n",
       " <selenium.webdriver.remote.webelement.WebElement (session=\"8b3b05498dc786e3dd023f24400acd46\", element=\"4e821901-3bcd-4c57-a557-d8f60f281847\")>,\n",
       " <selenium.webdriver.remote.webelement.WebElement (session=\"8b3b05498dc786e3dd023f24400acd46\", element=\"2dbf3edb-7e95-4d65-af51-32bf37bf01bc\")>,\n",
       " <selenium.webdriver.remote.webelement.WebElement (session=\"8b3b05498dc786e3dd023f24400acd46\", element=\"6b96c825-d309-4610-8a67-330d3a999598\")>,\n",
       " <selenium.webdriver.remote.webelement.WebElement (session=\"8b3b05498dc786e3dd023f24400acd46\", element=\"d8f89c57-ea89-416f-83b8-27e49b0523f5\")>,\n",
       " <selenium.webdriver.remote.webelement.WebElement (session=\"8b3b05498dc786e3dd023f24400acd46\", element=\"382de950-e80d-426c-9a67-8a24d7c03148\")>,\n",
       " <selenium.webdriver.remote.webelement.WebElement (session=\"8b3b05498dc786e3dd023f24400acd46\", element=\"e49c5843-0928-4e7a-bb47-50ea7672fabe\")>,\n",
       " <selenium.webdriver.remote.webelement.WebElement (session=\"8b3b05498dc786e3dd023f24400acd46\", element=\"8875ed2d-e016-4fe2-b104-feeb39d6d590\")>,\n",
       " <selenium.webdriver.remote.webelement.WebElement (session=\"8b3b05498dc786e3dd023f24400acd46\", element=\"6a792ddd-9d74-4113-8772-d94746228095\")>,\n",
       " <selenium.webdriver.remote.webelement.WebElement (session=\"8b3b05498dc786e3dd023f24400acd46\", element=\"096eb025-3149-490f-9a5a-9ad627bfb10b\")>]"
      ]
     },
     "execution_count": 18,
     "metadata": {},
     "output_type": "execute_result"
    }
   ],
   "source": [
    "# Find the all the tags for the Job Location via xpath and print to check\n",
    "\n",
    "location_tags=driver.find_elements_by_xpath(\"//li[@class='fleft grey-text br2 placeHolderLi location']/span[1]\")\n",
    "location_tags[0:10]"
   ]
  },
  {
   "cell_type": "code",
   "execution_count": 19,
   "id": "c1ace768",
   "metadata": {},
   "outputs": [
    {
     "data": {
      "text/plain": [
       "['Bangalore/Bengaluru, Mumbai (All Areas)',\n",
       " 'Bangalore/Bengaluru(Bellandur)',\n",
       " 'Bangalore/Bengaluru',\n",
       " 'Bangalore/Bengaluru',\n",
       " 'Bangalore/Bengaluru',\n",
       " 'Bangalore/Bengaluru',\n",
       " 'Bangalore/Bengaluru',\n",
       " 'Bangalore/Bengaluru',\n",
       " 'Kochi/Cochin, Cannanore/Kannur, Nagpur, Calicut/Kozhikode, Coimbatore, Thodupuzha, Bangalore/Bengaluru, Trivandrum/Thiruvananthapuram',\n",
       " 'Bangalore/Bengaluru']"
      ]
     },
     "execution_count": 19,
     "metadata": {},
     "output_type": "execute_result"
    }
   ],
   "source": [
    "# From the location tags get the text data in a loop and then print to check\n",
    "\n",
    "for i in location_tags:\n",
    "    locations_list.append(i.text)\n",
    "locations_list[0:10]"
   ]
  },
  {
   "cell_type": "code",
   "execution_count": 20,
   "id": "caf42fa6",
   "metadata": {},
   "outputs": [
    {
     "data": {
      "text/plain": [
       "[<selenium.webdriver.remote.webelement.WebElement (session=\"8b3b05498dc786e3dd023f24400acd46\", element=\"0ec3af7f-bcfe-4298-a2c5-a3c7bc0dbbf4\")>,\n",
       " <selenium.webdriver.remote.webelement.WebElement (session=\"8b3b05498dc786e3dd023f24400acd46\", element=\"a3af7cad-023c-4eaf-8d27-21cc606bf413\")>,\n",
       " <selenium.webdriver.remote.webelement.WebElement (session=\"8b3b05498dc786e3dd023f24400acd46\", element=\"cadbd535-022a-4ea4-9894-f7725cb1f412\")>,\n",
       " <selenium.webdriver.remote.webelement.WebElement (session=\"8b3b05498dc786e3dd023f24400acd46\", element=\"f6f4d5b7-7f2b-4ea8-8740-1bc31dd37026\")>,\n",
       " <selenium.webdriver.remote.webelement.WebElement (session=\"8b3b05498dc786e3dd023f24400acd46\", element=\"7c625f14-adc1-4000-b84d-e412304a60a0\")>,\n",
       " <selenium.webdriver.remote.webelement.WebElement (session=\"8b3b05498dc786e3dd023f24400acd46\", element=\"c75999d6-1100-4e45-b7d2-50a316477313\")>,\n",
       " <selenium.webdriver.remote.webelement.WebElement (session=\"8b3b05498dc786e3dd023f24400acd46\", element=\"3580501e-3137-4dc9-8392-f24a7b8f5990\")>,\n",
       " <selenium.webdriver.remote.webelement.WebElement (session=\"8b3b05498dc786e3dd023f24400acd46\", element=\"d52de84d-a944-4f0d-bbc6-ace41e8d1885\")>,\n",
       " <selenium.webdriver.remote.webelement.WebElement (session=\"8b3b05498dc786e3dd023f24400acd46\", element=\"28a6d1d5-cfe5-4a7e-9438-7ed5547de037\")>,\n",
       " <selenium.webdriver.remote.webelement.WebElement (session=\"8b3b05498dc786e3dd023f24400acd46\", element=\"f1957c1a-4cc6-4892-b167-921b39630794\")>]"
      ]
     },
     "execution_count": 20,
     "metadata": {},
     "output_type": "execute_result"
    }
   ],
   "source": [
    "# Find the all the tags for the Job Experience via xpath and print to check\n",
    "\n",
    "experience_tags=driver.find_elements_by_xpath(\"//li[@class='fleft grey-text br2 placeHolderLi experience']/span[1]\")\n",
    "experience_tags[0:10]"
   ]
  },
  {
   "cell_type": "code",
   "execution_count": 21,
   "id": "7a9043dd",
   "metadata": {},
   "outputs": [
    {
     "data": {
      "text/plain": [
       "['3-8 Yrs',\n",
       " '0-3 Yrs',\n",
       " '2-5 Yrs',\n",
       " '1-6 Yrs',\n",
       " '0-2 Yrs',\n",
       " '3-8 Yrs',\n",
       " '5-10 Yrs',\n",
       " '2-7 Yrs',\n",
       " '1-4 Yrs',\n",
       " '3-6 Yrs']"
      ]
     },
     "execution_count": 21,
     "metadata": {},
     "output_type": "execute_result"
    }
   ],
   "source": [
    "# From the experience tags get the text data in a loop and then print to check\n",
    "\n",
    "for i in experience_tags:\n",
    "    experience_list.append(i.text)\n",
    "experience_list[0:10]"
   ]
  },
  {
   "cell_type": "code",
   "execution_count": 22,
   "id": "709e51cb",
   "metadata": {},
   "outputs": [
    {
     "name": "stdout",
     "output_type": "stream",
     "text": [
      "20 20 20 20\n"
     ]
    }
   ],
   "source": [
    "# Check the length of the list of each element\n",
    "print(len(job_list),len(company_list),len(locations_list),len(experience_list))"
   ]
  },
  {
   "cell_type": "code",
   "execution_count": 23,
   "id": "11c224ed",
   "metadata": {},
   "outputs": [
    {
     "data": {
      "text/html": [
       "<div>\n",
       "<style scoped>\n",
       "    .dataframe tbody tr th:only-of-type {\n",
       "        vertical-align: middle;\n",
       "    }\n",
       "\n",
       "    .dataframe tbody tr th {\n",
       "        vertical-align: top;\n",
       "    }\n",
       "\n",
       "    .dataframe thead th {\n",
       "        text-align: right;\n",
       "    }\n",
       "</style>\n",
       "<table border=\"1\" class=\"dataframe\">\n",
       "  <thead>\n",
       "    <tr style=\"text-align: right;\">\n",
       "      <th></th>\n",
       "      <th>Title</th>\n",
       "      <th>Company Name</th>\n",
       "      <th>Location</th>\n",
       "      <th>Experience</th>\n",
       "    </tr>\n",
       "  </thead>\n",
       "  <tbody>\n",
       "    <tr>\n",
       "      <th>0</th>\n",
       "      <td>Senior Business Data Analyst</td>\n",
       "      <td>Tech Data Advanced Solutions India Pvt Ltd</td>\n",
       "      <td>Bangalore/Bengaluru, Mumbai (All Areas)</td>\n",
       "      <td>3-8 Yrs</td>\n",
       "    </tr>\n",
       "    <tr>\n",
       "      <th>1</th>\n",
       "      <td>Data Analyst - Flipkart Analytics</td>\n",
       "      <td>Flipkart</td>\n",
       "      <td>Bangalore/Bengaluru(Bellandur)</td>\n",
       "      <td>0-3 Yrs</td>\n",
       "    </tr>\n",
       "    <tr>\n",
       "      <th>2</th>\n",
       "      <td>Business Data Analyst - Database Design/Mining</td>\n",
       "      <td>AugmatrixGo</td>\n",
       "      <td>Bangalore/Bengaluru</td>\n",
       "      <td>2-5 Yrs</td>\n",
       "    </tr>\n",
       "    <tr>\n",
       "      <th>3</th>\n",
       "      <td>Urgent Openings For Data Analyst / Business An...</td>\n",
       "      <td>Flipkart</td>\n",
       "      <td>Bangalore/Bengaluru</td>\n",
       "      <td>1-6 Yrs</td>\n",
       "    </tr>\n",
       "    <tr>\n",
       "      <th>4</th>\n",
       "      <td>Data Analyst</td>\n",
       "      <td>Rupeek Fintech Pvt Ltd</td>\n",
       "      <td>Bangalore/Bengaluru</td>\n",
       "      <td>0-2 Yrs</td>\n",
       "    </tr>\n",
       "    <tr>\n",
       "      <th>5</th>\n",
       "      <td>Business Data Analyst(BigId) - Capco - Bangalore</td>\n",
       "      <td>Capco Technologies Pvt Ltd</td>\n",
       "      <td>Bangalore/Bengaluru</td>\n",
       "      <td>3-8 Yrs</td>\n",
       "    </tr>\n",
       "    <tr>\n",
       "      <th>6</th>\n",
       "      <td>Senior Data Analyst</td>\n",
       "      <td>ShieldSquare _x001A_</td>\n",
       "      <td>Bangalore/Bengaluru</td>\n",
       "      <td>5-10 Yrs</td>\n",
       "    </tr>\n",
       "    <tr>\n",
       "      <th>7</th>\n",
       "      <td>DATA ANALYST</td>\n",
       "      <td>McAfee</td>\n",
       "      <td>Bangalore/Bengaluru</td>\n",
       "      <td>2-7 Yrs</td>\n",
       "    </tr>\n",
       "    <tr>\n",
       "      <th>8</th>\n",
       "      <td>Data Analyst</td>\n",
       "      <td>CINDREBAY SCHOOL OF FASHION &amp; INTERIOR DESIGN</td>\n",
       "      <td>Kochi/Cochin, Cannanore/Kannur, Nagpur, Calicu...</td>\n",
       "      <td>1-4 Yrs</td>\n",
       "    </tr>\n",
       "    <tr>\n",
       "      <th>9</th>\n",
       "      <td>Data Analyst - Marketing</td>\n",
       "      <td>Capco Technologies Pvt Ltd</td>\n",
       "      <td>Bangalore/Bengaluru</td>\n",
       "      <td>3-6 Yrs</td>\n",
       "    </tr>\n",
       "  </tbody>\n",
       "</table>\n",
       "</div>"
      ],
      "text/plain": [
       "                                               Title  \\\n",
       "0                       Senior Business Data Analyst   \n",
       "1                  Data Analyst - Flipkart Analytics   \n",
       "2     Business Data Analyst - Database Design/Mining   \n",
       "3  Urgent Openings For Data Analyst / Business An...   \n",
       "4                                       Data Analyst   \n",
       "5   Business Data Analyst(BigId) - Capco - Bangalore   \n",
       "6                                Senior Data Analyst   \n",
       "7                                       DATA ANALYST   \n",
       "8                                       Data Analyst   \n",
       "9                           Data Analyst - Marketing   \n",
       "\n",
       "                                    Company Name  \\\n",
       "0     Tech Data Advanced Solutions India Pvt Ltd   \n",
       "1                                       Flipkart   \n",
       "2                                    AugmatrixGo   \n",
       "3                                       Flipkart   \n",
       "4                         Rupeek Fintech Pvt Ltd   \n",
       "5                     Capco Technologies Pvt Ltd   \n",
       "6                           ShieldSquare _x001A_   \n",
       "7                                         McAfee   \n",
       "8  CINDREBAY SCHOOL OF FASHION & INTERIOR DESIGN   \n",
       "9                     Capco Technologies Pvt Ltd   \n",
       "\n",
       "                                            Location Experience  \n",
       "0            Bangalore/Bengaluru, Mumbai (All Areas)    3-8 Yrs  \n",
       "1                     Bangalore/Bengaluru(Bellandur)    0-3 Yrs  \n",
       "2                                Bangalore/Bengaluru    2-5 Yrs  \n",
       "3                                Bangalore/Bengaluru    1-6 Yrs  \n",
       "4                                Bangalore/Bengaluru    0-2 Yrs  \n",
       "5                                Bangalore/Bengaluru    3-8 Yrs  \n",
       "6                                Bangalore/Bengaluru   5-10 Yrs  \n",
       "7                                Bangalore/Bengaluru    2-7 Yrs  \n",
       "8  Kochi/Cochin, Cannanore/Kannur, Nagpur, Calicu...    1-4 Yrs  \n",
       "9                                Bangalore/Bengaluru    3-6 Yrs  "
      ]
     },
     "execution_count": 23,
     "metadata": {},
     "output_type": "execute_result"
    }
   ],
   "source": [
    "#Create DataFrame from the Top 10 Data and display\n",
    "\n",
    "job = pd.DataFrame({})\n",
    "job['Title'] = job_list[0:10]\n",
    "job['Company Name'] = company_list[0:10]\n",
    "job['Location'] = locations_list[0:10]\n",
    "job['Experience'] = experience_list[0:10]\n",
    "\n",
    "job"
   ]
  },
  {
   "cell_type": "markdown",
   "id": "72737361",
   "metadata": {},
   "source": [
    "## Question 2"
   ]
  },
  {
   "cell_type": "code",
   "execution_count": 24,
   "id": "d9cb42c1",
   "metadata": {},
   "outputs": [],
   "source": [
    "# Initialize Chrome Web Driver\n",
    "driver = webdriver.Chrome(r\"C:\\Users\\Bhabani\\Downloads\\chromedriver_win32\\chromedriver.exe\")"
   ]
  },
  {
   "cell_type": "code",
   "execution_count": 25,
   "id": "89276f2b",
   "metadata": {},
   "outputs": [],
   "source": [
    "# Open Naukri Portal https://www.naukri.com/\n",
    "driver.get(\"https://www.naukri.com/\")"
   ]
  },
  {
   "cell_type": "code",
   "execution_count": 26,
   "id": "c9996558",
   "metadata": {},
   "outputs": [],
   "source": [
    "# Find Search Job input field by id\n",
    "search_job=driver.find_element_by_id(\"qsb-keyword-sugg\")\n",
    "# Input text \"Data Analyst\"\n",
    "search_job.send_keys(\"Data Scientist\")\n",
    "#  Find location field element by xpath\n",
    "search_loc=driver.find_element_by_xpath(\"//input[@id='qsb-location-sugg']\")\n",
    "# Input text \"Bangalore\"\n",
    "search_loc.send_keys(\"Bangalore\")"
   ]
  },
  {
   "cell_type": "code",
   "execution_count": 27,
   "id": "67c05ef5",
   "metadata": {},
   "outputs": [],
   "source": [
    "# Find Search Button and click on it\n",
    "search_btn=driver.find_element_by_xpath(\"//div[@class='search-btn']/button\")\n",
    "search_btn.click()"
   ]
  },
  {
   "cell_type": "code",
   "execution_count": 28,
   "id": "77ca5fc8",
   "metadata": {},
   "outputs": [],
   "source": [
    "# Initialise the Job search list for titles,company,location and experience\n",
    "job_list=[]\n",
    "company_list=[]\n",
    "locations_list=[]\n",
    "experience_list=[]\n",
    "\n",
    "chatbot=driver.find_element_by_xpath(\"//div[@class='crossIcon chatBot chatBot-ic-cross']\")\n",
    "chatbot.click()"
   ]
  },
  {
   "cell_type": "code",
   "execution_count": 30,
   "id": "37c57075",
   "metadata": {},
   "outputs": [],
   "source": [
    "# Find the all the tags for the Job title via xpath and print to check\n",
    "title_tags=driver.find_elements_by_xpath(\"//a[@class='title fw500 ellipsis']\")\n"
   ]
  },
  {
   "cell_type": "code",
   "execution_count": 31,
   "id": "fb1438ac",
   "metadata": {},
   "outputs": [
    {
     "data": {
      "text/plain": [
       "['Senior Data Scientist',\n",
       " 'Data Scientist: Advanced Analytics',\n",
       " 'Senior Data Scientist',\n",
       " 'Senior Data Scientist | Fortune 500 Supermarket Chain',\n",
       " 'Senior Data Scientist',\n",
       " 'Senior Data Scientist- Data & Analytics',\n",
       " 'Forecasting Analyst/ Data Scientist (US Client)',\n",
       " 'Data Scientist',\n",
       " 'Process Innovation Analyst - APAC/Data Scientist - Third Party Role',\n",
       " 'Data Scientist']"
      ]
     },
     "execution_count": 31,
     "metadata": {},
     "output_type": "execute_result"
    }
   ],
   "source": [
    "# From the title tags get the text data in a loop and then print to check\n",
    "for i in title_tags:\n",
    "    job_list.append(i.text)\n",
    "job_list[0:10]"
   ]
  },
  {
   "cell_type": "code",
   "execution_count": 32,
   "id": "150b81e6",
   "metadata": {},
   "outputs": [
    {
     "data": {
      "text/plain": [
       "['IBM India Pvt. Limited',\n",
       " 'IBM India Pvt. Limited',\n",
       " 'Razorpay',\n",
       " 'TALENT500 TECH (INDIA) PRIVATE LIMITED',\n",
       " 'Hitachi Ltd.',\n",
       " 'ExecBoardinAsia',\n",
       " 'Concentrix Daksh Services',\n",
       " 'Toppr',\n",
       " 'Bayer',\n",
       " 'Hitachi Ltd.']"
      ]
     },
     "execution_count": 32,
     "metadata": {},
     "output_type": "execute_result"
    }
   ],
   "source": [
    "# Find the all the tags for the Job Company via xpath and print to check\n",
    "company_tags=driver.find_elements_by_xpath(\"//a[@class='subTitle ellipsis fleft']\")\n",
    "\n",
    "# From the company tags get the text data in a loop and then print to check\n",
    "\n",
    "for i in company_tags:\n",
    "    company_list.append(i.text)\n",
    "company_list[0:10]"
   ]
  },
  {
   "cell_type": "code",
   "execution_count": 33,
   "id": "0ad7fd38",
   "metadata": {},
   "outputs": [
    {
     "data": {
      "text/plain": [
       "['Bangalore/Bengaluru',\n",
       " 'Bangalore/Bengaluru',\n",
       " 'Bangalore/Bengaluru',\n",
       " 'Bangalore/Bengaluru',\n",
       " 'Bangalore/Bengaluru',\n",
       " 'Bangalore/Bengaluru',\n",
       " 'Gurgaon/Gurugram, Bangalore/Bengaluru',\n",
       " 'Hyderabad/Secunderabad, Bangalore/Bengaluru, Mumbai (All Areas)',\n",
       " 'Bangalore/Bengaluru, Hyderabad',\n",
       " 'Bangalore/Bengaluru']"
      ]
     },
     "execution_count": 33,
     "metadata": {},
     "output_type": "execute_result"
    }
   ],
   "source": [
    "# Find the all the tags for the Job Location via xpath and print to check\n",
    "\n",
    "location_tags=driver.find_elements_by_xpath(\"//li[@class='fleft grey-text br2 placeHolderLi location']/span[1]\")\n",
    "\n",
    "# From the location tags get the text data in a loop and then print to check\n",
    "\n",
    "for i in location_tags:\n",
    "    locations_list.append(i.text)\n",
    "locations_list[0:10]"
   ]
  },
  {
   "cell_type": "code",
   "execution_count": 34,
   "id": "ab72d67b",
   "metadata": {},
   "outputs": [
    {
     "data": {
      "text/plain": [
       "['5-10 Yrs',\n",
       " '5-10 Yrs',\n",
       " '4-6 Yrs',\n",
       " '7-10 Yrs',\n",
       " '2-5 Yrs',\n",
       " '5-10 Yrs',\n",
       " '3-8 Yrs',\n",
       " '1-3 Yrs',\n",
       " '4-8 Yrs',\n",
       " '3-7 Yrs']"
      ]
     },
     "execution_count": 34,
     "metadata": {},
     "output_type": "execute_result"
    }
   ],
   "source": [
    "# Find the all the tags for the Job Experience via xpath and print to check\n",
    "\n",
    "experience_tags=driver.find_elements_by_xpath(\"//li[@class='fleft grey-text br2 placeHolderLi experience']/span[1]\")\n",
    "\n",
    "# From the experience tags get the text data in a loop and then print to check\n",
    "\n",
    "for i in experience_tags:\n",
    "    experience_list.append(i.text)\n",
    "experience_list[0:10]"
   ]
  },
  {
   "cell_type": "code",
   "execution_count": 35,
   "id": "aa05178b",
   "metadata": {},
   "outputs": [
    {
     "name": "stdout",
     "output_type": "stream",
     "text": [
      "20 20 20 20\n"
     ]
    }
   ],
   "source": [
    "# Check the length of the list of each element\n",
    "print(len(job_list),len(company_list),len(locations_list),len(experience_list))"
   ]
  },
  {
   "cell_type": "code",
   "execution_count": 36,
   "id": "69062ab7",
   "metadata": {},
   "outputs": [
    {
     "data": {
      "text/html": [
       "<div>\n",
       "<style scoped>\n",
       "    .dataframe tbody tr th:only-of-type {\n",
       "        vertical-align: middle;\n",
       "    }\n",
       "\n",
       "    .dataframe tbody tr th {\n",
       "        vertical-align: top;\n",
       "    }\n",
       "\n",
       "    .dataframe thead th {\n",
       "        text-align: right;\n",
       "    }\n",
       "</style>\n",
       "<table border=\"1\" class=\"dataframe\">\n",
       "  <thead>\n",
       "    <tr style=\"text-align: right;\">\n",
       "      <th></th>\n",
       "      <th>Title</th>\n",
       "      <th>Company Name</th>\n",
       "      <th>Location</th>\n",
       "      <th>Experience</th>\n",
       "    </tr>\n",
       "  </thead>\n",
       "  <tbody>\n",
       "    <tr>\n",
       "      <th>0</th>\n",
       "      <td>Senior Data Scientist</td>\n",
       "      <td>IBM India Pvt. Limited</td>\n",
       "      <td>Bangalore/Bengaluru</td>\n",
       "      <td>5-10 Yrs</td>\n",
       "    </tr>\n",
       "    <tr>\n",
       "      <th>1</th>\n",
       "      <td>Data Scientist: Advanced Analytics</td>\n",
       "      <td>IBM India Pvt. Limited</td>\n",
       "      <td>Bangalore/Bengaluru</td>\n",
       "      <td>5-10 Yrs</td>\n",
       "    </tr>\n",
       "    <tr>\n",
       "      <th>2</th>\n",
       "      <td>Senior Data Scientist</td>\n",
       "      <td>Razorpay</td>\n",
       "      <td>Bangalore/Bengaluru</td>\n",
       "      <td>4-6 Yrs</td>\n",
       "    </tr>\n",
       "    <tr>\n",
       "      <th>3</th>\n",
       "      <td>Senior Data Scientist | Fortune 500 Supermarke...</td>\n",
       "      <td>TALENT500 TECH (INDIA) PRIVATE LIMITED</td>\n",
       "      <td>Bangalore/Bengaluru</td>\n",
       "      <td>7-10 Yrs</td>\n",
       "    </tr>\n",
       "    <tr>\n",
       "      <th>4</th>\n",
       "      <td>Senior Data Scientist</td>\n",
       "      <td>Hitachi Ltd.</td>\n",
       "      <td>Bangalore/Bengaluru</td>\n",
       "      <td>2-5 Yrs</td>\n",
       "    </tr>\n",
       "    <tr>\n",
       "      <th>5</th>\n",
       "      <td>Senior Data Scientist- Data &amp; Analytics</td>\n",
       "      <td>ExecBoardinAsia</td>\n",
       "      <td>Bangalore/Bengaluru</td>\n",
       "      <td>5-10 Yrs</td>\n",
       "    </tr>\n",
       "    <tr>\n",
       "      <th>6</th>\n",
       "      <td>Forecasting Analyst/ Data Scientist (US Client)</td>\n",
       "      <td>Concentrix Daksh Services</td>\n",
       "      <td>Gurgaon/Gurugram, Bangalore/Bengaluru</td>\n",
       "      <td>3-8 Yrs</td>\n",
       "    </tr>\n",
       "    <tr>\n",
       "      <th>7</th>\n",
       "      <td>Data Scientist</td>\n",
       "      <td>Toppr</td>\n",
       "      <td>Hyderabad/Secunderabad, Bangalore/Bengaluru, M...</td>\n",
       "      <td>1-3 Yrs</td>\n",
       "    </tr>\n",
       "    <tr>\n",
       "      <th>8</th>\n",
       "      <td>Process Innovation Analyst - APAC/Data Scienti...</td>\n",
       "      <td>Bayer</td>\n",
       "      <td>Bangalore/Bengaluru, Hyderabad</td>\n",
       "      <td>4-8 Yrs</td>\n",
       "    </tr>\n",
       "    <tr>\n",
       "      <th>9</th>\n",
       "      <td>Data Scientist</td>\n",
       "      <td>Hitachi Ltd.</td>\n",
       "      <td>Bangalore/Bengaluru</td>\n",
       "      <td>3-7 Yrs</td>\n",
       "    </tr>\n",
       "  </tbody>\n",
       "</table>\n",
       "</div>"
      ],
      "text/plain": [
       "                                               Title  \\\n",
       "0                              Senior Data Scientist   \n",
       "1                 Data Scientist: Advanced Analytics   \n",
       "2                              Senior Data Scientist   \n",
       "3  Senior Data Scientist | Fortune 500 Supermarke...   \n",
       "4                              Senior Data Scientist   \n",
       "5            Senior Data Scientist- Data & Analytics   \n",
       "6    Forecasting Analyst/ Data Scientist (US Client)   \n",
       "7                                     Data Scientist   \n",
       "8  Process Innovation Analyst - APAC/Data Scienti...   \n",
       "9                                     Data Scientist   \n",
       "\n",
       "                             Company Name  \\\n",
       "0                  IBM India Pvt. Limited   \n",
       "1                  IBM India Pvt. Limited   \n",
       "2                                Razorpay   \n",
       "3  TALENT500 TECH (INDIA) PRIVATE LIMITED   \n",
       "4                            Hitachi Ltd.   \n",
       "5                         ExecBoardinAsia   \n",
       "6               Concentrix Daksh Services   \n",
       "7                                   Toppr   \n",
       "8                                   Bayer   \n",
       "9                            Hitachi Ltd.   \n",
       "\n",
       "                                            Location Experience  \n",
       "0                                Bangalore/Bengaluru   5-10 Yrs  \n",
       "1                                Bangalore/Bengaluru   5-10 Yrs  \n",
       "2                                Bangalore/Bengaluru    4-6 Yrs  \n",
       "3                                Bangalore/Bengaluru   7-10 Yrs  \n",
       "4                                Bangalore/Bengaluru    2-5 Yrs  \n",
       "5                                Bangalore/Bengaluru   5-10 Yrs  \n",
       "6              Gurgaon/Gurugram, Bangalore/Bengaluru    3-8 Yrs  \n",
       "7  Hyderabad/Secunderabad, Bangalore/Bengaluru, M...    1-3 Yrs  \n",
       "8                     Bangalore/Bengaluru, Hyderabad    4-8 Yrs  \n",
       "9                                Bangalore/Bengaluru    3-7 Yrs  "
      ]
     },
     "execution_count": 36,
     "metadata": {},
     "output_type": "execute_result"
    }
   ],
   "source": [
    "#Create DataFrame from the Top 10 Data and display\n",
    "\n",
    "job = pd.DataFrame({})\n",
    "job['Title'] = job_list[0:10]\n",
    "job['Company Name'] = company_list[0:10]\n",
    "job['Location'] = locations_list[0:10]\n",
    "job['Experience'] = experience_list[0:10]\n",
    "\n",
    "job"
   ]
  },
  {
   "cell_type": "markdown",
   "id": "65ee8777",
   "metadata": {},
   "source": [
    "## Question 3"
   ]
  },
  {
   "cell_type": "code",
   "execution_count": 37,
   "id": "1de91d9e",
   "metadata": {},
   "outputs": [],
   "source": [
    "# Initialize Chrome Web Driver\n",
    "driver = webdriver.Chrome(r\"C:\\Users\\Bhabani\\Downloads\\chromedriver_win32\\chromedriver.exe\")"
   ]
  },
  {
   "cell_type": "code",
   "execution_count": 38,
   "id": "ece7f875",
   "metadata": {},
   "outputs": [],
   "source": [
    "# Open Naukri Portal https://www.naukri.com/\n",
    "driver.get(\"https://www.naukri.com/\")"
   ]
  },
  {
   "cell_type": "code",
   "execution_count": 39,
   "id": "f25ed471",
   "metadata": {},
   "outputs": [],
   "source": [
    "# Find Search Job input field by id\n",
    "search_job=driver.find_element_by_id(\"qsb-keyword-sugg\")\n",
    "# Input text \"Data Analyst\"\n",
    "search_job.send_keys(\"Data Scientist\")"
   ]
  },
  {
   "cell_type": "code",
   "execution_count": 40,
   "id": "a864e5f8",
   "metadata": {},
   "outputs": [],
   "source": [
    "# Find Search Button and click on it\n",
    "search_btn=driver.find_element_by_xpath(\"//div[@class='search-btn']/button\")\n",
    "search_btn.click()"
   ]
  },
  {
   "cell_type": "code",
   "execution_count": 41,
   "id": "b9ff5827",
   "metadata": {},
   "outputs": [],
   "source": [
    "chatbot=driver.find_element_by_xpath(\"//div[@class='crossIcon chatBot chatBot-ic-cross']\")\n",
    "chatbot.click()"
   ]
  },
  {
   "cell_type": "code",
   "execution_count": 42,
   "id": "53296644",
   "metadata": {},
   "outputs": [
    {
     "name": "stdout",
     "output_type": "stream",
     "text": [
      "https://www.naukri.com/data-scientist-jobs?k=data%20scientist&cityTypeGid=9508\n"
     ]
    }
   ],
   "source": [
    "# Use the Location Filter\n",
    "loc_filter = driver.find_elements_by_xpath(\"//div[@data-filter-id='citiesGid']/div\")\n",
    "loc_filter[2].click()\n",
    "url = driver.current_url\n",
    "print(url)\n",
    "driver.get(url)\n",
    "\n"
   ]
  },
  {
   "cell_type": "code",
   "execution_count": 43,
   "id": "4f08f803",
   "metadata": {},
   "outputs": [],
   "source": [
    "# Use the Salary Filter\n",
    "salary_filter = driver.find_elements_by_xpath(\"//div[@data-filter-id='salaryRange']/div\")\n",
    "salary_filter[1].click()\n",
    "#salary_filter.click()"
   ]
  },
  {
   "cell_type": "code",
   "execution_count": 44,
   "id": "2eac0d65",
   "metadata": {},
   "outputs": [
    {
     "name": "stdout",
     "output_type": "stream",
     "text": [
      "https://www.naukri.com/data-scientist-jobs?k=data%20scientist&cityTypeGid=9508&ctcFilter=3to6\n"
     ]
    }
   ],
   "source": [
    "url = driver.current_url\n",
    "print(url)\n",
    "driver.get(url)"
   ]
  },
  {
   "cell_type": "code",
   "execution_count": 45,
   "id": "33430604",
   "metadata": {},
   "outputs": [],
   "source": [
    "# Initialise the Job search list for titles,company,location and experience\n",
    "job_list=[]\n",
    "company_list=[]\n",
    "locations_list=[]\n",
    "experience_list=[]\n",
    "\n"
   ]
  },
  {
   "cell_type": "code",
   "execution_count": 46,
   "id": "05e5ea8f",
   "metadata": {},
   "outputs": [
    {
     "data": {
      "text/plain": [
       "['Data Scientist - Insurance',\n",
       " 'Job Opportunity || Data Scientist || HCL Technologies',\n",
       " 'Data Scientist',\n",
       " 'Data Scientist III-2',\n",
       " 'Data Scientist',\n",
       " 'Data Scientist',\n",
       " 'Urgent Hiring || Data Scientist || Delhi',\n",
       " 'Data Scientist',\n",
       " 'Data Scientist Internship',\n",
       " 'Data Scientist']"
      ]
     },
     "execution_count": 46,
     "metadata": {},
     "output_type": "execute_result"
    }
   ],
   "source": [
    "# Find the all the tags for the Job title via xpath and print to check\n",
    "title_tags=driver.find_elements_by_xpath(\"//a[@class='title fw500 ellipsis']\")\n",
    "\n",
    "# From the title tags get the text data in a loop and then print to check\n",
    "for i in title_tags:\n",
    "    job_list.append(i.text)\n",
    "job_list[0:10]"
   ]
  },
  {
   "cell_type": "code",
   "execution_count": 47,
   "id": "20d862ea",
   "metadata": {},
   "outputs": [
    {
     "data": {
      "text/plain": [
       "['Huquo Consulting Pvt. Ltd',\n",
       " 'HCL Technologies',\n",
       " 'ThinkBumblebee Analytics Pvt. Ltd.',\n",
       " 'Concentrix Daksh Services',\n",
       " 'MoMagic Technologies Pvt. Ltd.',\n",
       " 'MoMagic Technologies Pvt. Ltd.',\n",
       " 'Shriram Automall India Limited',\n",
       " 'Think i',\n",
       " 'iHackers Inc',\n",
       " 'Optum Global Solutions (India) Private Limited']"
      ]
     },
     "execution_count": 47,
     "metadata": {},
     "output_type": "execute_result"
    }
   ],
   "source": [
    "# Find the all the tags for the Job Company via xpath and print to check\n",
    "company_tags=driver.find_elements_by_xpath(\"//a[@class='subTitle ellipsis fleft']\")\n",
    "\n",
    "# From the company tags get the text data in a loop and then print to check\n",
    "\n",
    "for i in company_tags:\n",
    "    company_list.append(i.text)\n",
    "company_list[0:10]"
   ]
  },
  {
   "cell_type": "code",
   "execution_count": 48,
   "id": "02d426d1",
   "metadata": {},
   "outputs": [
    {
     "data": {
      "text/plain": [
       "['Noida, Gurgaon/Gurugram',\n",
       " 'Delhi / NCR',\n",
       " 'Pune, Bangalore/Bengaluru, Delhi / NCR',\n",
       " 'Gurgaon/Gurugram',\n",
       " 'Noida(Sector-126 Noida)',\n",
       " 'Noida(Sector-126 Noida)',\n",
       " 'Delhi / NCR',\n",
       " 'Kochi/Cochin, Kolkata, Hyderabad/Secunderabad, Pune, Ahmedabad, Chennai, Bangalore/Bengaluru, Delhi / NCR, Mumbai (All Areas)',\n",
       " 'New Delhi',\n",
       " 'Noida, Gurgaon/Gurugram']"
      ]
     },
     "execution_count": 48,
     "metadata": {},
     "output_type": "execute_result"
    }
   ],
   "source": [
    "# Find the all the tags for the Job Location via xpath and print to check\n",
    "\n",
    "location_tags=driver.find_elements_by_xpath(\"//li[@class='fleft grey-text br2 placeHolderLi location']/span[1]\")\n",
    "\n",
    "# From the location tags get the text data in a loop and then print to check\n",
    "\n",
    "for i in location_tags:\n",
    "    locations_list.append(i.text)\n",
    "locations_list[0:10]"
   ]
  },
  {
   "cell_type": "code",
   "execution_count": 49,
   "id": "f9b43e2e",
   "metadata": {},
   "outputs": [
    {
     "data": {
      "text/plain": [
       "['2-7 Yrs',\n",
       " '4-7 Yrs',\n",
       " '2-6 Yrs',\n",
       " '3-8 Yrs',\n",
       " '4-6 Yrs',\n",
       " '4-6 Yrs',\n",
       " '2-7 Yrs',\n",
       " '0-2 Yrs',\n",
       " '0-1 Yrs',\n",
       " '2-6 Yrs']"
      ]
     },
     "execution_count": 49,
     "metadata": {},
     "output_type": "execute_result"
    }
   ],
   "source": [
    "# Find the all the tags for the Job Experience via xpath and print to check\n",
    "\n",
    "experience_tags=driver.find_elements_by_xpath(\"//li[@class='fleft grey-text br2 placeHolderLi experience']/span[1]\")\n",
    "\n",
    "# From the experience tags get the text data in a loop and then print to check\n",
    "\n",
    "for i in experience_tags:\n",
    "    experience_list.append(i.text)\n",
    "experience_list[0:10]"
   ]
  },
  {
   "cell_type": "code",
   "execution_count": 50,
   "id": "1daa31c3",
   "metadata": {},
   "outputs": [
    {
     "name": "stdout",
     "output_type": "stream",
     "text": [
      "20 20 20 20\n"
     ]
    }
   ],
   "source": [
    "# Check the length of the list of each element\n",
    "print(len(job_list),len(company_list),len(locations_list),len(experience_list))"
   ]
  },
  {
   "cell_type": "code",
   "execution_count": 51,
   "id": "bf9849de",
   "metadata": {},
   "outputs": [
    {
     "data": {
      "text/html": [
       "<div>\n",
       "<style scoped>\n",
       "    .dataframe tbody tr th:only-of-type {\n",
       "        vertical-align: middle;\n",
       "    }\n",
       "\n",
       "    .dataframe tbody tr th {\n",
       "        vertical-align: top;\n",
       "    }\n",
       "\n",
       "    .dataframe thead th {\n",
       "        text-align: right;\n",
       "    }\n",
       "</style>\n",
       "<table border=\"1\" class=\"dataframe\">\n",
       "  <thead>\n",
       "    <tr style=\"text-align: right;\">\n",
       "      <th></th>\n",
       "      <th>Title</th>\n",
       "      <th>Company Name</th>\n",
       "      <th>Location</th>\n",
       "      <th>Experience</th>\n",
       "    </tr>\n",
       "  </thead>\n",
       "  <tbody>\n",
       "    <tr>\n",
       "      <th>0</th>\n",
       "      <td>Data Scientist - Insurance</td>\n",
       "      <td>Huquo Consulting Pvt. Ltd</td>\n",
       "      <td>Noida, Gurgaon/Gurugram</td>\n",
       "      <td>2-7 Yrs</td>\n",
       "    </tr>\n",
       "    <tr>\n",
       "      <th>1</th>\n",
       "      <td>Job Opportunity || Data Scientist || HCL Techn...</td>\n",
       "      <td>HCL Technologies</td>\n",
       "      <td>Delhi / NCR</td>\n",
       "      <td>4-7 Yrs</td>\n",
       "    </tr>\n",
       "    <tr>\n",
       "      <th>2</th>\n",
       "      <td>Data Scientist</td>\n",
       "      <td>ThinkBumblebee Analytics Pvt. Ltd.</td>\n",
       "      <td>Pune, Bangalore/Bengaluru, Delhi / NCR</td>\n",
       "      <td>2-6 Yrs</td>\n",
       "    </tr>\n",
       "    <tr>\n",
       "      <th>3</th>\n",
       "      <td>Data Scientist III-2</td>\n",
       "      <td>Concentrix Daksh Services</td>\n",
       "      <td>Gurgaon/Gurugram</td>\n",
       "      <td>3-8 Yrs</td>\n",
       "    </tr>\n",
       "    <tr>\n",
       "      <th>4</th>\n",
       "      <td>Data Scientist</td>\n",
       "      <td>MoMagic Technologies Pvt. Ltd.</td>\n",
       "      <td>Noida(Sector-126 Noida)</td>\n",
       "      <td>4-6 Yrs</td>\n",
       "    </tr>\n",
       "    <tr>\n",
       "      <th>5</th>\n",
       "      <td>Data Scientist</td>\n",
       "      <td>MoMagic Technologies Pvt. Ltd.</td>\n",
       "      <td>Noida(Sector-126 Noida)</td>\n",
       "      <td>4-6 Yrs</td>\n",
       "    </tr>\n",
       "    <tr>\n",
       "      <th>6</th>\n",
       "      <td>Urgent Hiring || Data Scientist || Delhi</td>\n",
       "      <td>Shriram Automall India Limited</td>\n",
       "      <td>Delhi / NCR</td>\n",
       "      <td>2-7 Yrs</td>\n",
       "    </tr>\n",
       "    <tr>\n",
       "      <th>7</th>\n",
       "      <td>Data Scientist</td>\n",
       "      <td>Think i</td>\n",
       "      <td>Kochi/Cochin, Kolkata, Hyderabad/Secunderabad,...</td>\n",
       "      <td>0-2 Yrs</td>\n",
       "    </tr>\n",
       "    <tr>\n",
       "      <th>8</th>\n",
       "      <td>Data Scientist Internship</td>\n",
       "      <td>iHackers Inc</td>\n",
       "      <td>New Delhi</td>\n",
       "      <td>0-1 Yrs</td>\n",
       "    </tr>\n",
       "    <tr>\n",
       "      <th>9</th>\n",
       "      <td>Data Scientist</td>\n",
       "      <td>Optum Global Solutions (India) Private Limited</td>\n",
       "      <td>Noida, Gurgaon/Gurugram</td>\n",
       "      <td>2-6 Yrs</td>\n",
       "    </tr>\n",
       "  </tbody>\n",
       "</table>\n",
       "</div>"
      ],
      "text/plain": [
       "                                               Title  \\\n",
       "0                         Data Scientist - Insurance   \n",
       "1  Job Opportunity || Data Scientist || HCL Techn...   \n",
       "2                                     Data Scientist   \n",
       "3                               Data Scientist III-2   \n",
       "4                                     Data Scientist   \n",
       "5                                     Data Scientist   \n",
       "6           Urgent Hiring || Data Scientist || Delhi   \n",
       "7                                     Data Scientist   \n",
       "8                          Data Scientist Internship   \n",
       "9                                     Data Scientist   \n",
       "\n",
       "                                     Company Name  \\\n",
       "0                       Huquo Consulting Pvt. Ltd   \n",
       "1                                HCL Technologies   \n",
       "2              ThinkBumblebee Analytics Pvt. Ltd.   \n",
       "3                       Concentrix Daksh Services   \n",
       "4                  MoMagic Technologies Pvt. Ltd.   \n",
       "5                  MoMagic Technologies Pvt. Ltd.   \n",
       "6                  Shriram Automall India Limited   \n",
       "7                                         Think i   \n",
       "8                                    iHackers Inc   \n",
       "9  Optum Global Solutions (India) Private Limited   \n",
       "\n",
       "                                            Location Experience  \n",
       "0                            Noida, Gurgaon/Gurugram    2-7 Yrs  \n",
       "1                                        Delhi / NCR    4-7 Yrs  \n",
       "2             Pune, Bangalore/Bengaluru, Delhi / NCR    2-6 Yrs  \n",
       "3                                   Gurgaon/Gurugram    3-8 Yrs  \n",
       "4                            Noida(Sector-126 Noida)    4-6 Yrs  \n",
       "5                            Noida(Sector-126 Noida)    4-6 Yrs  \n",
       "6                                        Delhi / NCR    2-7 Yrs  \n",
       "7  Kochi/Cochin, Kolkata, Hyderabad/Secunderabad,...    0-2 Yrs  \n",
       "8                                          New Delhi    0-1 Yrs  \n",
       "9                            Noida, Gurgaon/Gurugram    2-6 Yrs  "
      ]
     },
     "execution_count": 51,
     "metadata": {},
     "output_type": "execute_result"
    }
   ],
   "source": [
    "#Create DataFrame from the Top 10 Data and display\n",
    "\n",
    "job = pd.DataFrame({})\n",
    "job['Title'] = job_list[0:10]\n",
    "job['Company Name'] = company_list[0:10]\n",
    "job['Location'] = locations_list[0:10]\n",
    "job['Experience'] = experience_list[0:10]\n",
    "\n",
    "job"
   ]
  },
  {
   "cell_type": "markdown",
   "id": "4aea78ed",
   "metadata": {},
   "source": [
    "# Question 4"
   ]
  },
  {
   "cell_type": "code",
   "execution_count": 53,
   "id": "0d3b4403",
   "metadata": {},
   "outputs": [],
   "source": [
    "# Initialize Chrome Web Driver\n",
    "driver = webdriver.Chrome(r\"C:\\Users\\Bhabani\\Downloads\\chromedriver_win32\\chromedriver.exe\")\n",
    "#Open https://www.flipkart.com/\n",
    "driver.get('https://www.flipkart.com/')\n",
    "\n"
   ]
  },
  {
   "cell_type": "code",
   "execution_count": 55,
   "id": "9a720ca0",
   "metadata": {},
   "outputs": [],
   "source": [
    "#Searching input for Sunglasses\n",
    "search = driver.find_element_by_xpath('//input[@placeholder=\"Search for products, brands and more\"]')\n",
    "search.send_keys(\"sunglasses\")\n",
    "\n",
    "#Click on the Search Button\n",
    "search_btn = driver.find_element_by_xpath('//button[@class=\"L0Z3Pu\"]')\n",
    "search_btn.click()\n",
    "\n",
    "url=driver.current_url\n",
    "driver.get(url)\n",
    "\n"
   ]
  },
  {
   "cell_type": "code",
   "execution_count": 56,
   "id": "f6d9048e",
   "metadata": {},
   "outputs": [],
   "source": [
    "#creating empty list\n",
    "brand_list = []\n",
    "desc_list = []\n",
    "price_list = []\n",
    "\n",
    "#Extract Brand Data\n",
    "brand_tag = driver.find_elements_by_xpath(\"//div[@class='_2WkVRV']\")\n",
    "for i in brand_tag:\n",
    "    brand_list.append(i.text)\n",
    "#Extract Description Data\n",
    "description_tag = driver.find_elements_by_xpath(\"//a[@class='IRpwTa']\")\n",
    "for i in description_tag:\n",
    "    desc_list.append(i.text)\n",
    "#Extract Price Data\n",
    "price_tag = driver.find_elements_by_xpath(\"//div[@class='_30jeq3']\")\n",
    "for i in price_tag:\n",
    "    price_list.append(i.text)\n",
    "\n",
    "# Click on Next page\n",
    "driver.find_element_by_xpath(\"//a[@class='_1LKTO3']\").click()\n",
    "\n"
   ]
  },
  {
   "cell_type": "code",
   "execution_count": 57,
   "id": "da1827f1",
   "metadata": {},
   "outputs": [],
   "source": [
    "#get request for next page\n",
    "url=driver.current_url\n",
    "driver.get(url)\n",
    "\n",
    "#Extract Brand Data\n",
    "brand_tag = driver.find_elements_by_xpath(\"//div[@class='_2WkVRV']\")\n",
    "for i in brand_tag:\n",
    "    brand_list.append(i.text)\n",
    "#Extract Description Data\n",
    "description_tag = driver.find_elements_by_xpath(\"//a[@class='IRpwTa']\")\n",
    "for i in description_tag:\n",
    "    desc_list.append(i.text)\n",
    "#Extract Price Data\n",
    "price_tag = driver.find_elements_by_xpath(\"//div[@class='_30jeq3']\")\n",
    "for i in price_tag:\n",
    "    price_list.append(i.text)\n",
    "\n",
    "# Click on Next page\n",
    "driver.find_element_by_xpath(\"//a[@class='_1LKTO3']\").click()\n",
    "\n"
   ]
  },
  {
   "cell_type": "code",
   "execution_count": 58,
   "id": "e795ab96",
   "metadata": {},
   "outputs": [],
   "source": [
    "#get request for next page\n",
    "url=driver.current_url\n",
    "driver.get(url)\n",
    "\n",
    "#Extract Brand Data\n",
    "brand_tag = driver.find_elements_by_xpath(\"//div[@class='_2WkVRV']\")\n",
    "for i in brand_tag:\n",
    "    brand_list.append(i.text)\n",
    "#Extract Description Data\n",
    "description_tag = driver.find_elements_by_xpath(\"//a[@class='IRpwTa']\")\n",
    "for i in description_tag:\n",
    "    desc_list.append(i.text)\n",
    "#Extract Price Data\n",
    "price_tag = driver.find_elements_by_xpath(\"//div[@class='_30jeq3']\")\n",
    "for i in price_tag:\n",
    "    price_list.append(i.text)\n",
    "\n"
   ]
  },
  {
   "cell_type": "code",
   "execution_count": 59,
   "id": "877078eb",
   "metadata": {},
   "outputs": [
    {
     "name": "stdout",
     "output_type": "stream",
     "text": [
      "120\n",
      "117\n",
      "120\n"
     ]
    },
    {
     "data": {
      "text/html": [
       "<div>\n",
       "<style scoped>\n",
       "    .dataframe tbody tr th:only-of-type {\n",
       "        vertical-align: middle;\n",
       "    }\n",
       "\n",
       "    .dataframe tbody tr th {\n",
       "        vertical-align: top;\n",
       "    }\n",
       "\n",
       "    .dataframe thead th {\n",
       "        text-align: right;\n",
       "    }\n",
       "</style>\n",
       "<table border=\"1\" class=\"dataframe\">\n",
       "  <thead>\n",
       "    <tr style=\"text-align: right;\">\n",
       "      <th></th>\n",
       "      <th>Brand</th>\n",
       "      <th>Description</th>\n",
       "      <th>Price</th>\n",
       "    </tr>\n",
       "  </thead>\n",
       "  <tbody>\n",
       "    <tr>\n",
       "      <th>0</th>\n",
       "      <td>SRPM</td>\n",
       "      <td>UV Protection Wayfarer Sunglasses (56)</td>\n",
       "      <td>₹188</td>\n",
       "    </tr>\n",
       "    <tr>\n",
       "      <th>1</th>\n",
       "      <td>SUNBEE</td>\n",
       "      <td>UV Protection, Polarized, Mirrored Round Sungl...</td>\n",
       "      <td>₹276</td>\n",
       "    </tr>\n",
       "    <tr>\n",
       "      <th>2</th>\n",
       "      <td>Fastrack</td>\n",
       "      <td>UV Protection Rectangular Sunglasses (Free Size)</td>\n",
       "      <td>₹639</td>\n",
       "    </tr>\n",
       "    <tr>\n",
       "      <th>3</th>\n",
       "      <td>Singco India</td>\n",
       "      <td>Gradient, Toughened Glass Lens, UV Protection ...</td>\n",
       "      <td>₹699</td>\n",
       "    </tr>\n",
       "    <tr>\n",
       "      <th>4</th>\n",
       "      <td>Elligator</td>\n",
       "      <td>UV Protection Round Sunglasses (54)</td>\n",
       "      <td>₹248</td>\n",
       "    </tr>\n",
       "    <tr>\n",
       "      <th>...</th>\n",
       "      <td>...</td>\n",
       "      <td>...</td>\n",
       "      <td>...</td>\n",
       "    </tr>\n",
       "    <tr>\n",
       "      <th>95</th>\n",
       "      <td>VINCENT CHASE</td>\n",
       "      <td>Mirrored, UV Protection, Gradient Round Sungla...</td>\n",
       "      <td>₹999</td>\n",
       "    </tr>\n",
       "    <tr>\n",
       "      <th>96</th>\n",
       "      <td>GANSTA</td>\n",
       "      <td>Polarized Round Sunglasses (48)</td>\n",
       "      <td>₹269</td>\n",
       "    </tr>\n",
       "    <tr>\n",
       "      <th>97</th>\n",
       "      <td>hipe</td>\n",
       "      <td>UV Protection Aviator Sunglasses (60)</td>\n",
       "      <td>₹189</td>\n",
       "    </tr>\n",
       "    <tr>\n",
       "      <th>98</th>\n",
       "      <td>Rich Club</td>\n",
       "      <td>UV Protection Rectangular Sunglasses (Free Size)</td>\n",
       "      <td>₹189</td>\n",
       "    </tr>\n",
       "    <tr>\n",
       "      <th>99</th>\n",
       "      <td>LOUIS KOUROS</td>\n",
       "      <td>UV Protection Retro Square Sunglasses (Free Size)</td>\n",
       "      <td>₹1,039</td>\n",
       "    </tr>\n",
       "  </tbody>\n",
       "</table>\n",
       "<p>100 rows × 3 columns</p>\n",
       "</div>"
      ],
      "text/plain": [
       "            Brand                                        Description   Price\n",
       "0            SRPM             UV Protection Wayfarer Sunglasses (56)    ₹188\n",
       "1          SUNBEE  UV Protection, Polarized, Mirrored Round Sungl...    ₹276\n",
       "2        Fastrack   UV Protection Rectangular Sunglasses (Free Size)    ₹639\n",
       "3    Singco India  Gradient, Toughened Glass Lens, UV Protection ...    ₹699\n",
       "4       Elligator                UV Protection Round Sunglasses (54)    ₹248\n",
       "..            ...                                                ...     ...\n",
       "95  VINCENT CHASE  Mirrored, UV Protection, Gradient Round Sungla...    ₹999\n",
       "96         GANSTA                    Polarized Round Sunglasses (48)    ₹269\n",
       "97           hipe              UV Protection Aviator Sunglasses (60)    ₹189\n",
       "98      Rich Club   UV Protection Rectangular Sunglasses (Free Size)    ₹189\n",
       "99   LOUIS KOUROS  UV Protection Retro Square Sunglasses (Free Size)  ₹1,039\n",
       "\n",
       "[100 rows x 3 columns]"
      ]
     },
     "execution_count": 59,
     "metadata": {},
     "output_type": "execute_result"
    }
   ],
   "source": [
    "print(len(brand_list))\n",
    "print(len(desc_list))\n",
    "print(len(price_list))    \n",
    "# Prepare Data Frame\n",
    "df = pd.DataFrame({'Brand': brand_list[0:100], 'Description':desc_list[0:100], 'Price': price_list[0:100]})\n",
    "df"
   ]
  },
  {
   "cell_type": "markdown",
   "id": "0571654a",
   "metadata": {},
   "source": [
    "# Question 5"
   ]
  },
  {
   "cell_type": "code",
   "execution_count": 60,
   "id": "21536eac",
   "metadata": {},
   "outputs": [],
   "source": [
    "#creating empty list\n",
    "rating_list = []\n",
    "review_list = []\n",
    "full_review_list = []\n",
    "\n",
    "#Define Function to Extract data\n",
    "def ExtarctData(driver):\n",
    "    #Extract Rating Data\n",
    "    rating_tag = driver.find_elements_by_xpath(\"//div[@class='_3LWZlK _1BLPMq']\")\n",
    "    for i in rating_tag:\n",
    "        rating_list.append(i.text)\n",
    "    rating_tag = driver.find_elements_by_xpath(\"//div[@class='_3LWZlK _1rdVr6 _1BLPMq']\")\n",
    "    for i in rating_tag:\n",
    "        rating_list.append(i.text)\n",
    "    #Extract Review Summary Data\n",
    "    summary_tag = driver.find_elements_by_xpath(\"//p[@class='_2-N8zT']\")\n",
    "    for i in summary_tag:\n",
    "        review_list.append(i.text)\n",
    "    #Extract Full Review Data\n",
    "    fullReview_tag = driver.find_elements_by_xpath(\"//div[@class='t-ZTKy']\")\n",
    "    for i in fullReview_tag:\n",
    "        full_review_list.append(i.text)"
   ]
  },
  {
   "cell_type": "code",
   "execution_count": 64,
   "id": "fd161f1f",
   "metadata": {},
   "outputs": [
    {
     "name": "stdout",
     "output_type": "stream",
     "text": [
      "190\n"
     ]
    },
    {
     "data": {
      "text/html": [
       "<div>\n",
       "<style scoped>\n",
       "    .dataframe tbody tr th:only-of-type {\n",
       "        vertical-align: middle;\n",
       "    }\n",
       "\n",
       "    .dataframe tbody tr th {\n",
       "        vertical-align: top;\n",
       "    }\n",
       "\n",
       "    .dataframe thead th {\n",
       "        text-align: right;\n",
       "    }\n",
       "</style>\n",
       "<table border=\"1\" class=\"dataframe\">\n",
       "  <thead>\n",
       "    <tr style=\"text-align: right;\">\n",
       "      <th></th>\n",
       "      <th>Rating</th>\n",
       "      <th>Review Summary</th>\n",
       "      <th>Full Review</th>\n",
       "    </tr>\n",
       "  </thead>\n",
       "  <tbody>\n",
       "    <tr>\n",
       "      <th>0</th>\n",
       "      <td>5</td>\n",
       "      <td>Brilliant</td>\n",
       "      <td>The Best Phone for the Money\\n\\nThe iPhone 11 ...</td>\n",
       "    </tr>\n",
       "    <tr>\n",
       "      <th>1</th>\n",
       "      <td>5</td>\n",
       "      <td>Simply awesome</td>\n",
       "      <td>Really satisfied with the Product I received.....</td>\n",
       "    </tr>\n",
       "    <tr>\n",
       "      <th>2</th>\n",
       "      <td>5</td>\n",
       "      <td>Perfect product!</td>\n",
       "      <td>Amazing phone with great cameras and better ba...</td>\n",
       "    </tr>\n",
       "    <tr>\n",
       "      <th>3</th>\n",
       "      <td>5</td>\n",
       "      <td>Worth every penny</td>\n",
       "      <td>Previously I was using one plus 3t it was a gr...</td>\n",
       "    </tr>\n",
       "    <tr>\n",
       "      <th>4</th>\n",
       "      <td>5</td>\n",
       "      <td>Best in the market!</td>\n",
       "      <td>Great iPhone very snappy experience as apple k...</td>\n",
       "    </tr>\n",
       "    <tr>\n",
       "      <th>...</th>\n",
       "      <td>...</td>\n",
       "      <td>...</td>\n",
       "      <td>...</td>\n",
       "    </tr>\n",
       "    <tr>\n",
       "      <th>185</th>\n",
       "      <td>5</td>\n",
       "      <td>Worth every penny</td>\n",
       "      <td>Best budget Iphone till date ❤️ go for it guys...</td>\n",
       "    </tr>\n",
       "    <tr>\n",
       "      <th>186</th>\n",
       "      <td>5</td>\n",
       "      <td>Perfect product!</td>\n",
       "      <td>Iphone is just awesome.. battery backup is ver...</td>\n",
       "    </tr>\n",
       "    <tr>\n",
       "      <th>187</th>\n",
       "      <td>5</td>\n",
       "      <td>Highly recommended</td>\n",
       "      <td>It's my first time to use iOS phone and I am l...</td>\n",
       "    </tr>\n",
       "    <tr>\n",
       "      <th>188</th>\n",
       "      <td>5</td>\n",
       "      <td>Worth every penny</td>\n",
       "      <td>It’s been almost a month since I have been usi...</td>\n",
       "    </tr>\n",
       "    <tr>\n",
       "      <th>189</th>\n",
       "      <td>5</td>\n",
       "      <td>Worth every penny</td>\n",
       "      <td>Smooth like butter, camera like fantabulous, s...</td>\n",
       "    </tr>\n",
       "  </tbody>\n",
       "</table>\n",
       "<p>190 rows × 3 columns</p>\n",
       "</div>"
      ],
      "text/plain": [
       "    Rating       Review Summary  \\\n",
       "0        5            Brilliant   \n",
       "1        5       Simply awesome   \n",
       "2        5     Perfect product!   \n",
       "3        5    Worth every penny   \n",
       "4        5  Best in the market!   \n",
       "..     ...                  ...   \n",
       "185      5    Worth every penny   \n",
       "186      5     Perfect product!   \n",
       "187      5   Highly recommended   \n",
       "188      5    Worth every penny   \n",
       "189      5    Worth every penny   \n",
       "\n",
       "                                           Full Review  \n",
       "0    The Best Phone for the Money\\n\\nThe iPhone 11 ...  \n",
       "1    Really satisfied with the Product I received.....  \n",
       "2    Amazing phone with great cameras and better ba...  \n",
       "3    Previously I was using one plus 3t it was a gr...  \n",
       "4    Great iPhone very snappy experience as apple k...  \n",
       "..                                                 ...  \n",
       "185  Best budget Iphone till date ❤️ go for it guys...  \n",
       "186  Iphone is just awesome.. battery backup is ver...  \n",
       "187  It's my first time to use iOS phone and I am l...  \n",
       "188  It’s been almost a month since I have been usi...  \n",
       "189  Smooth like butter, camera like fantabulous, s...  \n",
       "\n",
       "[190 rows x 3 columns]"
      ]
     },
     "execution_count": 64,
     "metadata": {},
     "output_type": "execute_result"
    }
   ],
   "source": [
    "url = 'https://www.flipkart.com/apple-iphone-11-black-64-gb-includes- earpods-poweradapter/p/itm0f37c2240b217?pid=MOBFKCTSVZAXUHGR&lid=LSTMOBFKCTSVZAXUHGREPBFGI&marketplace'\n",
    "driver.get(url)\n",
    "# Click on All Reviews\n",
    "driver.find_element_by_xpath(\"//div[@class='_3UAT2v _16PBlm']\").click()\n",
    "#get All Review\n",
    "url=driver.current_url\n",
    "driver.get(url)\n",
    "ExtarctData(driver)\n",
    "\n",
    "# Click on Next page\n",
    "driver.find_element_by_xpath(\"//a[@class='_1LKTO3']\").click()\n",
    "url=driver.current_url\n",
    "driver.get(url)\n",
    "ExtarctData(driver)\n",
    "\n",
    "# Click on Next page\n",
    "driver.find_element_by_xpath(\"//a[@class='_1LKTO3']\").click()\n",
    "url=driver.current_url\n",
    "driver.get(url)\n",
    "ExtarctData(driver)\n",
    "\n",
    "# Click on Next page\n",
    "driver.find_element_by_xpath(\"//a[@class='_1LKTO3']\").click()\n",
    "url=driver.current_url\n",
    "driver.get(url)\n",
    "ExtarctData(driver)\n",
    "\n",
    "# Click on Next page\n",
    "driver.find_element_by_xpath(\"//a[@class='_1LKTO3']\").click()\n",
    "url=driver.current_url\n",
    "driver.get(url)\n",
    "ExtarctData(driver)\n",
    "\n",
    "\n",
    "# Click on Next page\n",
    "driver.find_element_by_xpath(\"//a[@class='_1LKTO3']\").click()\n",
    "url=driver.current_url\n",
    "driver.get(url)\n",
    "ExtarctData(driver)\n",
    "\n",
    "# Click on Next page\n",
    "driver.find_element_by_xpath(\"//a[@class='_1LKTO3']\").click()\n",
    "url=driver.current_url\n",
    "driver.get(url)\n",
    "ExtarctData(driver)\n",
    "\n",
    "# Click on Next page\n",
    "driver.find_element_by_xpath(\"//a[@class='_1LKTO3']\").click()\n",
    "url=driver.current_url\n",
    "driver.get(url)\n",
    "ExtarctData(driver)\n",
    "\n",
    "# Click on Next page\n",
    "driver.find_element_by_xpath(\"//a[@class='_1LKTO3']\").click()\n",
    "url=driver.current_url\n",
    "driver.get(url)\n",
    "ExtarctData(driver)\n",
    "\n",
    "# Click on Next page\n",
    "driver.find_element_by_xpath(\"//a[@class='_1LKTO3']\").click()\n",
    "url=driver.current_url\n",
    "driver.get(url)\n",
    "ExtarctData(driver)\n",
    "\n",
    "print(len(rating_list))\n",
    "# Prepare Data Frame\n",
    "df = pd.DataFrame({'Rating': rating_list, 'Review Summary':review_list, 'Full Review': full_review_list})\n",
    "df"
   ]
  },
  {
   "cell_type": "markdown",
   "id": "887a5e49",
   "metadata": {},
   "source": [
    "#  Question 6"
   ]
  },
  {
   "cell_type": "code",
   "execution_count": 69,
   "id": "0c39c5e9",
   "metadata": {},
   "outputs": [],
   "source": [
    "# Initialize Chrome Web Driver\n",
    "driver = webdriver.Chrome(r\"C:\\Users\\Bhabani\\Downloads\\chromedriver_win32\\chromedriver.exe\")\n",
    "#Open https://www.flipkart.com/\n",
    "driver.get('https://www.flipkart.com/')\n"
   ]
  },
  {
   "cell_type": "code",
   "execution_count": 72,
   "id": "82e4e20d",
   "metadata": {},
   "outputs": [],
   "source": [
    "#Searching Parameter\n",
    "search = driver.find_element_by_xpath('//input[@placeholder=\"Search for products, brands and more\"]')\n",
    "search.send_keys(\"sneakers\")\n",
    "\n",
    "# Search Button\n",
    "search_btn = driver.find_element_by_xpath('//button[@class=\"L0Z3Pu\"]')\n",
    "search_btn.click()"
   ]
  },
  {
   "cell_type": "code",
   "execution_count": 73,
   "id": "abcd126f",
   "metadata": {},
   "outputs": [],
   "source": [
    "#creating empty list\n",
    "brand_list = []\n",
    "desc_list = []\n",
    "price_list = []\n",
    "\n",
    "#Extract Brand, Description and Price Data\n",
    "item_tag = driver.find_elements_by_xpath(\"//div[@class='_2B099V']\")\n",
    "for i in item_tag:\n",
    "    item = i.text.split('\\n')\n",
    "    brand_list.append(item[0])\n",
    "    desc_list.append(item[1])\n",
    "    price_list.append(item[2])\n",
    "# Click on Next page\n",
    "driver.find_element_by_xpath(\"//a[@class='_1LKTO3']\").click()\n",
    "\n",
    "#get request for next page\n",
    "url=driver.current_url\n",
    "driver.get(url)\n",
    "\n"
   ]
  },
  {
   "cell_type": "code",
   "execution_count": 74,
   "id": "0f174f9b",
   "metadata": {},
   "outputs": [],
   "source": [
    "\n",
    "#Extract Brand, Description and Price Data\n",
    "item_tag = driver.find_elements_by_xpath(\"//div[@class='_2B099V']\")\n",
    "for i in item_tag:\n",
    "    item = i.text.split('\\n')\n",
    "    brand_list.append(item[0])\n",
    "    desc_list.append(item[1])\n",
    "    price_list.append(item[2])\n",
    "\n",
    "# Click on Next page\n",
    "driver.find_element_by_xpath(\"//a[@class='_1LKTO3']\").click()\n",
    "\n",
    "#get request for next page\n",
    "url=driver.current_url\n",
    "driver.get(url)\n"
   ]
  },
  {
   "cell_type": "code",
   "execution_count": 75,
   "id": "3499a99a",
   "metadata": {},
   "outputs": [
    {
     "name": "stdout",
     "output_type": "stream",
     "text": [
      "120\n",
      "120\n",
      "120\n"
     ]
    },
    {
     "data": {
      "text/html": [
       "<div>\n",
       "<style scoped>\n",
       "    .dataframe tbody tr th:only-of-type {\n",
       "        vertical-align: middle;\n",
       "    }\n",
       "\n",
       "    .dataframe tbody tr th {\n",
       "        vertical-align: top;\n",
       "    }\n",
       "\n",
       "    .dataframe thead th {\n",
       "        text-align: right;\n",
       "    }\n",
       "</style>\n",
       "<table border=\"1\" class=\"dataframe\">\n",
       "  <thead>\n",
       "    <tr style=\"text-align: right;\">\n",
       "      <th></th>\n",
       "      <th>Brand</th>\n",
       "      <th>Description</th>\n",
       "      <th>Price</th>\n",
       "    </tr>\n",
       "  </thead>\n",
       "  <tbody>\n",
       "    <tr>\n",
       "      <th>0</th>\n",
       "      <td>Airland</td>\n",
       "      <td>shoe Sneakers For Men</td>\n",
       "      <td>₹239₹49952% off</td>\n",
       "    </tr>\n",
       "    <tr>\n",
       "      <th>1</th>\n",
       "      <td>ERIX</td>\n",
       "      <td>men and boys Fashion black and red color Outdo...</td>\n",
       "      <td>₹498₹1,49966% off</td>\n",
       "    </tr>\n",
       "    <tr>\n",
       "      <th>2</th>\n",
       "      <td>Numenzo</td>\n",
       "      <td>Sneakers For Men</td>\n",
       "      <td>₹479₹1,29963% off</td>\n",
       "    </tr>\n",
       "    <tr>\n",
       "      <th>3</th>\n",
       "      <td>SCATCHITE</td>\n",
       "      <td>Sneakers Sneakers For Men</td>\n",
       "      <td>₹398₹99960% off</td>\n",
       "    </tr>\n",
       "    <tr>\n",
       "      <th>4</th>\n",
       "      <td>CALCADOS</td>\n",
       "      <td>Modern Trendy Shoes Combo pack of 4 Sneakers F...</td>\n",
       "      <td>₹899₹1,99654% off</td>\n",
       "    </tr>\n",
       "    <tr>\n",
       "      <th>...</th>\n",
       "      <td>...</td>\n",
       "      <td>...</td>\n",
       "      <td>...</td>\n",
       "    </tr>\n",
       "    <tr>\n",
       "      <th>95</th>\n",
       "      <td>U.S. POLO ASSN.</td>\n",
       "      <td>Sneakers For Men</td>\n",
       "      <td>₹2,593₹3,99935% off</td>\n",
       "    </tr>\n",
       "    <tr>\n",
       "      <th>96</th>\n",
       "      <td>FOOTGRAB</td>\n",
       "      <td>White Boots || High Tops || Sneakers For Men</td>\n",
       "      <td>₹649₹99935% off</td>\n",
       "    </tr>\n",
       "    <tr>\n",
       "      <th>97</th>\n",
       "      <td>Wlinzak</td>\n",
       "      <td>Sneakers For Men</td>\n",
       "      <td>₹499₹99950% off</td>\n",
       "    </tr>\n",
       "    <tr>\n",
       "      <th>98</th>\n",
       "      <td>PACIFIER</td>\n",
       "      <td>Sneakers For Men</td>\n",
       "      <td>₹499₹1,17457% off</td>\n",
       "    </tr>\n",
       "    <tr>\n",
       "      <th>99</th>\n",
       "      <td>Skechers</td>\n",
       "      <td>Ultra Flex 2.0 - Kelmer Sneakers For Men</td>\n",
       "      <td>₹5,499</td>\n",
       "    </tr>\n",
       "  </tbody>\n",
       "</table>\n",
       "<p>100 rows × 3 columns</p>\n",
       "</div>"
      ],
      "text/plain": [
       "              Brand                                        Description  \\\n",
       "0           Airland                              shoe Sneakers For Men   \n",
       "1              ERIX  men and boys Fashion black and red color Outdo...   \n",
       "2           Numenzo                                   Sneakers For Men   \n",
       "3         SCATCHITE                          Sneakers Sneakers For Men   \n",
       "4          CALCADOS  Modern Trendy Shoes Combo pack of 4 Sneakers F...   \n",
       "..              ...                                                ...   \n",
       "95  U.S. POLO ASSN.                                   Sneakers For Men   \n",
       "96         FOOTGRAB       White Boots || High Tops || Sneakers For Men   \n",
       "97          Wlinzak                                   Sneakers For Men   \n",
       "98         PACIFIER                                   Sneakers For Men   \n",
       "99         Skechers           Ultra Flex 2.0 - Kelmer Sneakers For Men   \n",
       "\n",
       "                  Price  \n",
       "0       ₹239₹49952% off  \n",
       "1     ₹498₹1,49966% off  \n",
       "2     ₹479₹1,29963% off  \n",
       "3       ₹398₹99960% off  \n",
       "4     ₹899₹1,99654% off  \n",
       "..                  ...  \n",
       "95  ₹2,593₹3,99935% off  \n",
       "96      ₹649₹99935% off  \n",
       "97      ₹499₹99950% off  \n",
       "98    ₹499₹1,17457% off  \n",
       "99               ₹5,499  \n",
       "\n",
       "[100 rows x 3 columns]"
      ]
     },
     "execution_count": 75,
     "metadata": {},
     "output_type": "execute_result"
    }
   ],
   "source": [
    "\n",
    "\n",
    "#Extract Brand, Description and Price Data\n",
    "item_tag = driver.find_elements_by_xpath(\"//div[@class='_2B099V']\")\n",
    "for i in item_tag:\n",
    "    item = i.text.split('\\n')\n",
    "    brand_list.append(item[0])\n",
    "    desc_list.append(item[1])\n",
    "    price_list.append(item[2])\n",
    "    \n",
    "print(len(brand_list))\n",
    "print(len(desc_list))\n",
    "print(len(price_list))\n",
    "# Prepare Data Frame\n",
    "df = pd.DataFrame({'Brand': brand_list[0:100], 'Description':desc_list[0:100], 'Price': price_list[0:100]})\n",
    "df"
   ]
  },
  {
   "cell_type": "markdown",
   "id": "e9a8cb78",
   "metadata": {},
   "source": [
    "# Question 7"
   ]
  },
  {
   "cell_type": "code",
   "execution_count": 76,
   "id": "e2b4d1bd",
   "metadata": {},
   "outputs": [],
   "source": [
    "# Initialize Chrome Web Driver\n",
    "driver = webdriver.Chrome(r\"C:\\Users\\Bhabani\\Downloads\\chromedriver_win32\\chromedriver.exe\")\n",
    "#Open https://www.myntra.com/shoes\n",
    "driver.get('https://www.myntra.com/shoes')\n",
    "\n",
    "#Price Filter for Rs. 6649 to Rs. 13099\n",
    "price_filter = driver.find_elements_by_xpath(\"//ul[@class='price-list']/li\")\n",
    "price_filter[1].click()\n"
   ]
  },
  {
   "cell_type": "code",
   "execution_count": 77,
   "id": "ccd0cc94",
   "metadata": {},
   "outputs": [],
   "source": [
    "\n",
    "#get request page\n",
    "url=driver.current_url\n",
    "driver.get(url)\n",
    "\n",
    "#Color filter to “Black”\n",
    "color_filter = driver.find_elements_by_xpath(\"//div[@class='vertical-filters-filters']/ul/li[@class='colour-listItem']\")\n",
    "color_filter[0].click()\n",
    "\n",
    "\n",
    "\n",
    "#creating empty list\n",
    "brand_list = []\n",
    "desc_list = []\n",
    "price_list = []\n"
   ]
  },
  {
   "cell_type": "code",
   "execution_count": 78,
   "id": "7ce9ef27",
   "metadata": {},
   "outputs": [],
   "source": [
    "\n",
    "\n",
    "#get request page\n",
    "url=driver.current_url\n",
    "driver.get(url)\n",
    "\n",
    "#Extract Branc , Price and Description data\n",
    "items_tag = driver.find_elements_by_xpath(\"//div[@class='product-productMetaInfo']\")\n",
    "for i in items_tag:\n",
    "    item = i.text.split('\\n')\n",
    "    brand_list.append(item[0])\n",
    "    desc_list.append(item[1])\n",
    "    price_list.append(item[2])\n",
    "    \n",
    "#Click on Next page\n",
    "driver.find_element_by_xpath('//a[@rel=\"next\"]').click()\n"
   ]
  },
  {
   "cell_type": "code",
   "execution_count": 79,
   "id": "b26e5107",
   "metadata": {},
   "outputs": [
    {
     "data": {
      "text/html": [
       "<div>\n",
       "<style scoped>\n",
       "    .dataframe tbody tr th:only-of-type {\n",
       "        vertical-align: middle;\n",
       "    }\n",
       "\n",
       "    .dataframe tbody tr th {\n",
       "        vertical-align: top;\n",
       "    }\n",
       "\n",
       "    .dataframe thead th {\n",
       "        text-align: right;\n",
       "    }\n",
       "</style>\n",
       "<table border=\"1\" class=\"dataframe\">\n",
       "  <thead>\n",
       "    <tr style=\"text-align: right;\">\n",
       "      <th></th>\n",
       "      <th>Brand</th>\n",
       "      <th>Description</th>\n",
       "      <th>Price</th>\n",
       "    </tr>\n",
       "  </thead>\n",
       "  <tbody>\n",
       "    <tr>\n",
       "      <th>0</th>\n",
       "      <td>Nike</td>\n",
       "      <td>Men Zoom Span 4 Running Shoes</td>\n",
       "      <td>Rs. 7195</td>\n",
       "    </tr>\n",
       "    <tr>\n",
       "      <th>1</th>\n",
       "      <td>Nike</td>\n",
       "      <td>Men FLIGHT LEGACY Sneakers</td>\n",
       "      <td>Rs. 7995</td>\n",
       "    </tr>\n",
       "    <tr>\n",
       "      <th>2</th>\n",
       "      <td>Hush Puppies</td>\n",
       "      <td>Men Solid Leather Formal Slip-Ons</td>\n",
       "      <td>Rs. 8099Rs. 8999(10% OFF)</td>\n",
       "    </tr>\n",
       "    <tr>\n",
       "      <th>3</th>\n",
       "      <td>Puma</td>\n",
       "      <td>Men Deviate Nitro Running Shoe</td>\n",
       "      <td>Rs. 11249Rs. 14999(25% OFF)</td>\n",
       "    </tr>\n",
       "    <tr>\n",
       "      <th>4</th>\n",
       "      <td>Calvin Klein</td>\n",
       "      <td>Men Mid-Top Runner Sneakers</td>\n",
       "      <td>Rs. 8249Rs. 10999(25% OFF)</td>\n",
       "    </tr>\n",
       "    <tr>\n",
       "      <th>...</th>\n",
       "      <td>...</td>\n",
       "      <td>...</td>\n",
       "      <td>...</td>\n",
       "    </tr>\n",
       "    <tr>\n",
       "      <th>95</th>\n",
       "      <td>J.FONTINI</td>\n",
       "      <td>Men Textured Leather Formal Loafers</td>\n",
       "      <td>Rs. 8990</td>\n",
       "    </tr>\n",
       "    <tr>\n",
       "      <th>96</th>\n",
       "      <td>ROSSO BRUNELLO</td>\n",
       "      <td>Men Leather Loafers</td>\n",
       "      <td>Rs. 11499</td>\n",
       "    </tr>\n",
       "    <tr>\n",
       "      <th>97</th>\n",
       "      <td>Calvin Klein</td>\n",
       "      <td>Men Solid Suede Sneakers</td>\n",
       "      <td>Rs. 7999</td>\n",
       "    </tr>\n",
       "    <tr>\n",
       "      <th>98</th>\n",
       "      <td>DAVINCHI</td>\n",
       "      <td>Men Solid Leather Formal Derbys</td>\n",
       "      <td>Rs. 8990</td>\n",
       "    </tr>\n",
       "    <tr>\n",
       "      <th>99</th>\n",
       "      <td>KLEAT</td>\n",
       "      <td>Men Suede Flat Boots</td>\n",
       "      <td>Rs. 8999</td>\n",
       "    </tr>\n",
       "  </tbody>\n",
       "</table>\n",
       "<p>100 rows × 3 columns</p>\n",
       "</div>"
      ],
      "text/plain": [
       "             Brand                          Description  \\\n",
       "0             Nike        Men Zoom Span 4 Running Shoes   \n",
       "1             Nike           Men FLIGHT LEGACY Sneakers   \n",
       "2     Hush Puppies    Men Solid Leather Formal Slip-Ons   \n",
       "3             Puma       Men Deviate Nitro Running Shoe   \n",
       "4     Calvin Klein          Men Mid-Top Runner Sneakers   \n",
       "..             ...                                  ...   \n",
       "95       J.FONTINI  Men Textured Leather Formal Loafers   \n",
       "96  ROSSO BRUNELLO                  Men Leather Loafers   \n",
       "97    Calvin Klein             Men Solid Suede Sneakers   \n",
       "98        DAVINCHI      Men Solid Leather Formal Derbys   \n",
       "99           KLEAT                 Men Suede Flat Boots   \n",
       "\n",
       "                          Price  \n",
       "0                      Rs. 7195  \n",
       "1                      Rs. 7995  \n",
       "2     Rs. 8099Rs. 8999(10% OFF)  \n",
       "3   Rs. 11249Rs. 14999(25% OFF)  \n",
       "4    Rs. 8249Rs. 10999(25% OFF)  \n",
       "..                          ...  \n",
       "95                     Rs. 8990  \n",
       "96                    Rs. 11499  \n",
       "97                     Rs. 7999  \n",
       "98                     Rs. 8990  \n",
       "99                     Rs. 8999  \n",
       "\n",
       "[100 rows x 3 columns]"
      ]
     },
     "execution_count": 79,
     "metadata": {},
     "output_type": "execute_result"
    }
   ],
   "source": [
    "#get request page\n",
    "url=driver.current_url\n",
    "driver.get(url)\n",
    "\n",
    "#Extract Branc , Price and Description data\n",
    "items_tag = driver.find_elements_by_xpath(\"//div[@class='product-productMetaInfo']\")\n",
    "for i in items_tag:\n",
    "    item = i.text.split('\\n')\n",
    "    brand_list.append(item[0])\n",
    "    desc_list.append(item[1])\n",
    "    price_list.append(item[2])\n",
    "\n",
    "# Prepare Data Frame\n",
    "df = pd.DataFrame({'Brand': brand_list[0:100], 'Description':desc_list[0:100], 'Price': price_list[0:100]})\n",
    "df"
   ]
  },
  {
   "cell_type": "markdown",
   "id": "b4e1d86c",
   "metadata": {},
   "source": [
    "\n",
    "# Question 8"
   ]
  },
  {
   "cell_type": "code",
   "execution_count": 80,
   "id": "aa2571a0",
   "metadata": {},
   "outputs": [],
   "source": [
    "# Initialize Chrome Web Driver\n",
    "driver = webdriver.Chrome(r\"C:\\Users\\Bhabani\\Downloads\\chromedriver_win32\\chromedriver.exe\")\n",
    "#Open https://www.amazon.in/\n",
    "driver.get('https://www.amazon.in/')\n",
    "\n",
    "#Searching Parameter\n",
    "search = driver.find_element_by_xpath('//input[@id=\"twotabsearchtextbox\"]')\n",
    "search.send_keys(\"Laptop\")\n",
    "\n",
    "# Search Button\n",
    "search_btn = driver.find_element_by_xpath('//input[@id=\"nav-search-submit-button\"]')\n",
    "search_btn.click()\n",
    "\n"
   ]
  },
  {
   "cell_type": "code",
   "execution_count": 81,
   "id": "c6f5e456",
   "metadata": {},
   "outputs": [],
   "source": [
    "#get Request page\n",
    "url=driver.current_url\n",
    "driver.get(url)\n",
    "\n",
    "#CPU Type filter to “Intel Core i7” and “Intel Core i9”\n",
    "#“Intel Core i9” not available\n",
    "driver.find_element_by_xpath('//li[@id=\"p_n_feature_thirteen_browse-bin/12598163031\"]/span/a').click()\n",
    "\n",
    "#creating empty list\n",
    "title_list = []\n",
    "rating_list = []\n",
    "price_list = []\n"
   ]
  },
  {
   "cell_type": "code",
   "execution_count": 82,
   "id": "5b6bc734",
   "metadata": {},
   "outputs": [],
   "source": [
    "\n",
    "#get Request page\n",
    "url=driver.current_url\n",
    "driver.get(url)\n",
    "\n",
    "#Extract Rating Data\n",
    "title_tag = driver.find_elements_by_xpath('//span[@class=\"a-size-medium a-color-base a-text-normal\"]')\n",
    "for i in title_tag:\n",
    "    title_list.append(i.text)\n",
    "    \n",
    "#Extract Rating Data\n",
    "rating_tag = driver.find_elements_by_xpath('//div[@class=\"a-section a-spacing-none a-spacing-top-micro\"]/div/span')\n",
    "for i in rating_tag:\n",
    "    rating = i.get_attribute('aria-label')\n",
    "    if(rating.find('stars') >= 0):\n",
    "        rating_list.append(rating)\n",
    "\n"
   ]
  },
  {
   "cell_type": "code",
   "execution_count": 83,
   "id": "896132b0",
   "metadata": {},
   "outputs": [
    {
     "data": {
      "text/html": [
       "<div>\n",
       "<style scoped>\n",
       "    .dataframe tbody tr th:only-of-type {\n",
       "        vertical-align: middle;\n",
       "    }\n",
       "\n",
       "    .dataframe tbody tr th {\n",
       "        vertical-align: top;\n",
       "    }\n",
       "\n",
       "    .dataframe thead th {\n",
       "        text-align: right;\n",
       "    }\n",
       "</style>\n",
       "<table border=\"1\" class=\"dataframe\">\n",
       "  <thead>\n",
       "    <tr style=\"text-align: right;\">\n",
       "      <th></th>\n",
       "      <th>Title</th>\n",
       "      <th>Rating</th>\n",
       "      <th>Price</th>\n",
       "    </tr>\n",
       "  </thead>\n",
       "  <tbody>\n",
       "    <tr>\n",
       "      <th>0</th>\n",
       "      <td>HP Envy 11th Gen Intel Core i7 14-inch(35.6 cm...</td>\n",
       "      <td>4.3 out of 5 stars</td>\n",
       "      <td>₹1,23,190</td>\n",
       "    </tr>\n",
       "    <tr>\n",
       "      <th>1</th>\n",
       "      <td>HP Pavilion (2021) Intel 11th Gen Core i7 14 i...</td>\n",
       "      <td>4.7 out of 5 stars</td>\n",
       "      <td>₹84,990</td>\n",
       "    </tr>\n",
       "    <tr>\n",
       "      <th>2</th>\n",
       "      <td>ASUS TUF Gaming F17 (2021), 17.3-inch (43.94 c...</td>\n",
       "      <td>4.3 out of 5 stars</td>\n",
       "      <td>₹1,13,990</td>\n",
       "    </tr>\n",
       "    <tr>\n",
       "      <th>3</th>\n",
       "      <td>HP Pavilion (2021) Intel 11th Gen Core i7 14 i...</td>\n",
       "      <td>4.2 out of 5 stars</td>\n",
       "      <td>₹84,990</td>\n",
       "    </tr>\n",
       "    <tr>\n",
       "      <th>4</th>\n",
       "      <td>Mi Notebook Horizon Edition 14 Intel Core i7-1...</td>\n",
       "      <td>4.6 out of 5 stars</td>\n",
       "      <td>₹56,990</td>\n",
       "    </tr>\n",
       "    <tr>\n",
       "      <th>5</th>\n",
       "      <td>Dell 14 (2021) i7-1195G7 2in1 Touch Screen Lap...</td>\n",
       "      <td>4.0 out of 5 stars</td>\n",
       "      <td>₹95,890</td>\n",
       "    </tr>\n",
       "    <tr>\n",
       "      <th>6</th>\n",
       "      <td>(Renewed) Lenovo Intel 5th Gen Core i7 14 Inch...</td>\n",
       "      <td>3.9 out of 5 stars</td>\n",
       "      <td>₹43,999</td>\n",
       "    </tr>\n",
       "    <tr>\n",
       "      <th>7</th>\n",
       "      <td>ASUS TUF Dash F15 15.6-inch FHD 144Hz, Intel C...</td>\n",
       "      <td>4.3 out of 5 stars</td>\n",
       "      <td>₹85,590</td>\n",
       "    </tr>\n",
       "    <tr>\n",
       "      <th>8</th>\n",
       "      <td>(Renewed) Lenovo Intel 5th Gen Core i7 14 Inch...</td>\n",
       "      <td>4.4 out of 5 stars</td>\n",
       "      <td>₹42,999</td>\n",
       "    </tr>\n",
       "    <tr>\n",
       "      <th>9</th>\n",
       "      <td>(Renewed) Lenovo Intel 5th Gen Core i7 14 Inch...</td>\n",
       "      <td>4.4 out of 5 stars</td>\n",
       "      <td>₹41,999</td>\n",
       "    </tr>\n",
       "  </tbody>\n",
       "</table>\n",
       "</div>"
      ],
      "text/plain": [
       "                                               Title              Rating  \\\n",
       "0  HP Envy 11th Gen Intel Core i7 14-inch(35.6 cm...  4.3 out of 5 stars   \n",
       "1  HP Pavilion (2021) Intel 11th Gen Core i7 14 i...  4.7 out of 5 stars   \n",
       "2  ASUS TUF Gaming F17 (2021), 17.3-inch (43.94 c...  4.3 out of 5 stars   \n",
       "3  HP Pavilion (2021) Intel 11th Gen Core i7 14 i...  4.2 out of 5 stars   \n",
       "4  Mi Notebook Horizon Edition 14 Intel Core i7-1...  4.6 out of 5 stars   \n",
       "5  Dell 14 (2021) i7-1195G7 2in1 Touch Screen Lap...  4.0 out of 5 stars   \n",
       "6  (Renewed) Lenovo Intel 5th Gen Core i7 14 Inch...  3.9 out of 5 stars   \n",
       "7  ASUS TUF Dash F15 15.6-inch FHD 144Hz, Intel C...  4.3 out of 5 stars   \n",
       "8  (Renewed) Lenovo Intel 5th Gen Core i7 14 Inch...  4.4 out of 5 stars   \n",
       "9  (Renewed) Lenovo Intel 5th Gen Core i7 14 Inch...  4.4 out of 5 stars   \n",
       "\n",
       "       Price  \n",
       "0  ₹1,23,190  \n",
       "1    ₹84,990  \n",
       "2  ₹1,13,990  \n",
       "3    ₹84,990  \n",
       "4    ₹56,990  \n",
       "5    ₹95,890  \n",
       "6    ₹43,999  \n",
       "7    ₹85,590  \n",
       "8    ₹42,999  \n",
       "9    ₹41,999  "
      ]
     },
     "execution_count": 83,
     "metadata": {},
     "output_type": "execute_result"
    }
   ],
   "source": [
    "#Extract Price Data\n",
    "price_tag = driver.find_elements_by_xpath('//span[@class=\"a-price\"]')\n",
    "for i in price_tag:\n",
    "    price_list.append(i.text)\n",
    "\n",
    "# Prepare Data Frame\n",
    "df = pd.DataFrame({'Title': title_list[0:10], 'Rating':rating_list[0:10], 'Price': price_list[0:10]})\n",
    "df"
   ]
  },
  {
   "cell_type": "markdown",
   "id": "4d33dca4",
   "metadata": {},
   "source": [
    "# Question 9"
   ]
  },
  {
   "cell_type": "code",
   "execution_count": 84,
   "id": "aa33ca51",
   "metadata": {},
   "outputs": [],
   "source": [
    "# Initialize Chrome Web Driver\n",
    "driver = webdriver.Chrome(r\"C:\\Users\\Bhabani\\Downloads\\chromedriver_win32\\chromedriver.exe\")\n",
    "# Open Ambitionbox Portal https://www.ambitionbox.com/\n",
    "driver.get(\"https://www.ambitionbox.com/\")"
   ]
  },
  {
   "cell_type": "code",
   "execution_count": 85,
   "id": "b62d0a0a",
   "metadata": {},
   "outputs": [],
   "source": [
    "# Find Jobs link and click on it\n",
    "jobs = driver.find_element_by_xpath('//a[@class=\"link jobs\"]')\n",
    "jobs.click()\n",
    "\n",
    "url=driver.current_url\n",
    "driver.get(url)"
   ]
  },
  {
   "cell_type": "code",
   "execution_count": 86,
   "id": "fbcdc198",
   "metadata": {},
   "outputs": [],
   "source": [
    "# Find search input box\n",
    "search_tag = driver.find_element_by_xpath('//input[@class=\"input tt-input\"]')\n",
    "search_tag.send_keys(\"Data Scientist\")\n",
    "\n",
    "# Find Search Button and click on it\n",
    "search_btn=driver.find_element_by_xpath(\"//div[@class='wrapper']/button\")\n",
    "search_btn.click()"
   ]
  },
  {
   "cell_type": "code",
   "execution_count": 87,
   "id": "3d9a8eac",
   "metadata": {},
   "outputs": [],
   "source": [
    "#Click on Location filter and enter Noida\n",
    "location = driver.find_elements_by_xpath('//div[@class=\"fitler-text\"]')[1]\n",
    "location.click()\n",
    "location_search = driver.find_element_by_xpath('//input[@placeholder=\"Search locations\"]')\n",
    "location_search.send_keys(\"Noida\")\n",
    "#Select Noida location\n",
    "noida = driver.find_element_by_xpath('//input[@id=\"location_Noida\"]')\n",
    "noida.click()"
   ]
  },
  {
   "cell_type": "code",
   "execution_count": 89,
   "id": "789e81d6",
   "metadata": {},
   "outputs": [],
   "source": [
    "# Initialise the Job search list for titles,company,location and experience\n",
    "job_list=[]\n",
    "company_list=[]\n",
    "rating_list=[]\n",
    "locations_list=[]\n"
   ]
  },
  {
   "cell_type": "code",
   "execution_count": 90,
   "id": "885b03ec",
   "metadata": {},
   "outputs": [
    {
     "data": {
      "text/plain": [
       "['Data Scientist',\n",
       " 'Urgent Requirement || Data Scientist || Noida',\n",
       " 'Group Lead-Data Scientist',\n",
       " 'Jubilant FoodWorks - Data Scientist - Deep Learning (2-6 yrs)',\n",
       " 'Urgent Vacancy || Data Scientist || Noida',\n",
       " 'Urgent Requirement || Data Scientist || Noida',\n",
       " 'Senior Data Scientist',\n",
       " 'Manager - Data Scientist - Retail/BFSI (8-15 yrs)',\n",
       " 'Data Scientist - Machine Learning (5-14 yrs)',\n",
       " 'Data Scientist - Data Science/Model Development (0-6 yrs)']"
      ]
     },
     "execution_count": 90,
     "metadata": {},
     "output_type": "execute_result"
    }
   ],
   "source": [
    "# Find the all the tags for the Job Info via xpath and print to check\n",
    "Job_info=driver.find_elements_by_xpath(\"//div[@class='info']/h2/a\")\n",
    "Job_info[0:10]\n",
    "\n",
    "# From the Job Info get the text data in a loop and then print to check\n",
    "for i in Job_info:\n",
    "    job_list.append(i.text)\n",
    "job_list[0:10]\n"
   ]
  },
  {
   "cell_type": "code",
   "execution_count": 91,
   "id": "720b656e",
   "metadata": {},
   "outputs": [
    {
     "data": {
      "text/plain": [
       "['4.1', '4.1', '4.1', '3.9', '4.1', '4.1', '3.8', '3.9', '4.2', '3.9']"
      ]
     },
     "execution_count": 91,
     "metadata": {},
     "output_type": "execute_result"
    }
   ],
   "source": [
    "#Extract Company And Rating data from company info\n",
    "company_data = driver.find_elements_by_xpath('//div[@class=\"info\"]/div[@class=\"company-info\"]')\n",
    "company_data[0:10]\n",
    "for i in company_data:\n",
    "    data = i.text.split('\\n')\n",
    "    company_list.append(data[0])    \n",
    "    rating_list.append(data[1])\n",
    "company_list[0:10]\n",
    "rating_list[0:10]"
   ]
  },
  {
   "cell_type": "code",
   "execution_count": 92,
   "id": "5facd435",
   "metadata": {},
   "outputs": [
    {
     "data": {
      "text/plain": [
       "['Noida, Gurgaon/Gurugram',\n",
       " 'Noida',\n",
       " 'Noida',\n",
       " 'Noida',\n",
       " 'Noida',\n",
       " 'Noida',\n",
       " 'Chennai, Hyderabad/Secunderabad, Noida',\n",
       " 'Delhi NCR, Noida, Gurgaon/Gurugram +4 more',\n",
       " 'Bengaluru/Bangalore, Noida',\n",
       " 'Gurgaon/Gurugram, Noida']"
      ]
     },
     "execution_count": 92,
     "metadata": {},
     "output_type": "execute_result"
    }
   ],
   "source": [
    "# Find the all the tags for the Job Location via xpath and print to check\n",
    "\n",
    "location_tags=driver.find_elements_by_xpath(\"//div[@class='entity loc']/p\")\n",
    "\n",
    "# From the location tags get the text data in a loop and then print to check\n",
    "\n",
    "for i in location_tags:\n",
    "    locations_list.append(i.text)\n",
    "locations_list[1:11]"
   ]
  },
  {
   "cell_type": "code",
   "execution_count": 93,
   "id": "7db99b30",
   "metadata": {},
   "outputs": [
    {
     "name": "stdout",
     "output_type": "stream",
     "text": [
      "10 10 11 10\n"
     ]
    }
   ],
   "source": [
    "# Check the length of the list of each element\n",
    "print(len(job_list),len(company_list),len(locations_list),len(rating_list))"
   ]
  },
  {
   "cell_type": "code",
   "execution_count": 94,
   "id": "e0ba460c",
   "metadata": {},
   "outputs": [
    {
     "data": {
      "text/html": [
       "<div>\n",
       "<style scoped>\n",
       "    .dataframe tbody tr th:only-of-type {\n",
       "        vertical-align: middle;\n",
       "    }\n",
       "\n",
       "    .dataframe tbody tr th {\n",
       "        vertical-align: top;\n",
       "    }\n",
       "\n",
       "    .dataframe thead th {\n",
       "        text-align: right;\n",
       "    }\n",
       "</style>\n",
       "<table border=\"1\" class=\"dataframe\">\n",
       "  <thead>\n",
       "    <tr style=\"text-align: right;\">\n",
       "      <th></th>\n",
       "      <th>Title</th>\n",
       "      <th>Company Name</th>\n",
       "      <th>Location</th>\n",
       "      <th>Rating</th>\n",
       "    </tr>\n",
       "  </thead>\n",
       "  <tbody>\n",
       "    <tr>\n",
       "      <th>0</th>\n",
       "      <td>Data Scientist</td>\n",
       "      <td>Optum Global Solutions (India) Private Limited</td>\n",
       "      <td>Noida, Gurgaon/Gurugram</td>\n",
       "      <td>4.1</td>\n",
       "    </tr>\n",
       "    <tr>\n",
       "      <th>1</th>\n",
       "      <td>Urgent Requirement || Data Scientist || Noida</td>\n",
       "      <td>Steria India Ltd</td>\n",
       "      <td>Noida, Gurgaon/Gurugram</td>\n",
       "      <td>4.1</td>\n",
       "    </tr>\n",
       "    <tr>\n",
       "      <th>2</th>\n",
       "      <td>Group Lead-Data Scientist</td>\n",
       "      <td>Ameriprise Financial</td>\n",
       "      <td>Noida</td>\n",
       "      <td>4.1</td>\n",
       "    </tr>\n",
       "    <tr>\n",
       "      <th>3</th>\n",
       "      <td>Jubilant FoodWorks - Data Scientist - Deep Lea...</td>\n",
       "      <td>Jubilant Foodworks Limited</td>\n",
       "      <td>Noida</td>\n",
       "      <td>3.9</td>\n",
       "    </tr>\n",
       "    <tr>\n",
       "      <th>4</th>\n",
       "      <td>Urgent Vacancy || Data Scientist || Noida</td>\n",
       "      <td>Steria India Ltd</td>\n",
       "      <td>Noida</td>\n",
       "      <td>4.1</td>\n",
       "    </tr>\n",
       "    <tr>\n",
       "      <th>5</th>\n",
       "      <td>Urgent Requirement || Data Scientist || Noida</td>\n",
       "      <td>Steria India Ltd</td>\n",
       "      <td>Noida</td>\n",
       "      <td>4.1</td>\n",
       "    </tr>\n",
       "    <tr>\n",
       "      <th>6</th>\n",
       "      <td>Senior Data Scientist</td>\n",
       "      <td>HCL Technologies Limited</td>\n",
       "      <td>Noida</td>\n",
       "      <td>3.8</td>\n",
       "    </tr>\n",
       "    <tr>\n",
       "      <th>7</th>\n",
       "      <td>Manager - Data Scientist - Retail/BFSI (8-15 yrs)</td>\n",
       "      <td>GI Group</td>\n",
       "      <td>Chennai, Hyderabad/Secunderabad, Noida</td>\n",
       "      <td>3.9</td>\n",
       "    </tr>\n",
       "    <tr>\n",
       "      <th>8</th>\n",
       "      <td>Data Scientist - Machine Learning (5-14 yrs)</td>\n",
       "      <td>Zyoin</td>\n",
       "      <td>Delhi NCR, Noida, Gurgaon/Gurugram +4 more</td>\n",
       "      <td>4.2</td>\n",
       "    </tr>\n",
       "    <tr>\n",
       "      <th>9</th>\n",
       "      <td>Data Scientist - Data Science/Model Developmen...</td>\n",
       "      <td>GI Group</td>\n",
       "      <td>Bengaluru/Bangalore, Noida</td>\n",
       "      <td>3.9</td>\n",
       "    </tr>\n",
       "  </tbody>\n",
       "</table>\n",
       "</div>"
      ],
      "text/plain": [
       "                                               Title  \\\n",
       "0                                     Data Scientist   \n",
       "1      Urgent Requirement || Data Scientist || Noida   \n",
       "2                          Group Lead-Data Scientist   \n",
       "3  Jubilant FoodWorks - Data Scientist - Deep Lea...   \n",
       "4          Urgent Vacancy || Data Scientist || Noida   \n",
       "5      Urgent Requirement || Data Scientist || Noida   \n",
       "6                              Senior Data Scientist   \n",
       "7  Manager - Data Scientist - Retail/BFSI (8-15 yrs)   \n",
       "8       Data Scientist - Machine Learning (5-14 yrs)   \n",
       "9  Data Scientist - Data Science/Model Developmen...   \n",
       "\n",
       "                                     Company Name  \\\n",
       "0  Optum Global Solutions (India) Private Limited   \n",
       "1                                Steria India Ltd   \n",
       "2                            Ameriprise Financial   \n",
       "3                      Jubilant Foodworks Limited   \n",
       "4                                Steria India Ltd   \n",
       "5                                Steria India Ltd   \n",
       "6                        HCL Technologies Limited   \n",
       "7                                        GI Group   \n",
       "8                                           Zyoin   \n",
       "9                                        GI Group   \n",
       "\n",
       "                                     Location Rating  \n",
       "0                     Noida, Gurgaon/Gurugram    4.1  \n",
       "1                     Noida, Gurgaon/Gurugram    4.1  \n",
       "2                                       Noida    4.1  \n",
       "3                                       Noida    3.9  \n",
       "4                                       Noida    4.1  \n",
       "5                                       Noida    4.1  \n",
       "6                                       Noida    3.8  \n",
       "7      Chennai, Hyderabad/Secunderabad, Noida    3.9  \n",
       "8  Delhi NCR, Noida, Gurgaon/Gurugram +4 more    4.2  \n",
       "9                  Bengaluru/Bangalore, Noida    3.9  "
      ]
     },
     "execution_count": 94,
     "metadata": {},
     "output_type": "execute_result"
    }
   ],
   "source": [
    "#Create DataFrame from the Top 10 Data and display\n",
    "\n",
    "job = pd.DataFrame({})\n",
    "job['Title'] = job_list[0:10]\n",
    "job['Company Name'] = company_list[0:10]\n",
    "job['Location'] = locations_list[0:10]\n",
    "job['Rating'] = rating_list[0:10]\n",
    "\n",
    "job"
   ]
  },
  {
   "cell_type": "markdown",
   "id": "09b93fc9",
   "metadata": {},
   "source": [
    "# Question 10"
   ]
  },
  {
   "cell_type": "code",
   "execution_count": 123,
   "id": "92076116",
   "metadata": {},
   "outputs": [],
   "source": [
    "# Initialize Chrome Web Driver\n",
    "driver = webdriver.Chrome(r\"C:\\Users\\Bhabani\\Downloads\\chromedriver_win32\\chromedriver.exe\")\n",
    "# Open Ambitionbox Portal https://www.ambitionbox.com/\n",
    "driver.get(\"https://www.ambitionbox.com/\")"
   ]
  },
  {
   "cell_type": "code",
   "execution_count": 124,
   "id": "5174eb4b",
   "metadata": {},
   "outputs": [],
   "source": [
    "# Find Salaries link and click on it\n",
    "driver.find_element_by_xpath('//a[@title=\"Company Salaries\"]').click()\n",
    "\n",
    "url=driver.current_url\n",
    "driver.get(url)"
   ]
  },
  {
   "cell_type": "code",
   "execution_count": 125,
   "id": "7ec45bc8",
   "metadata": {},
   "outputs": [],
   "source": [
    "# Find search input box\n",
    "search_tag = driver.find_element_by_xpath('//input[@id=\"jobProfileSearchbox\"]')\n",
    "# Input text \"Data Scientist\"\n",
    "search_tag.send_keys(\"Data Scientist\")\n"
   ]
  },
  {
   "cell_type": "code",
   "execution_count": 126,
   "id": "20532d31",
   "metadata": {
    "collapsed": true
   },
   "outputs": [
    {
     "ename": "ElementNotInteractableException",
     "evalue": "Message: element not interactable\n  (Session info: chrome=95.0.4638.69)\nStacktrace:\nBacktrace:\n\tOrdinal0 [0x00320C43+2493507]\n\tOrdinal0 [0x002BA4B1+2073777]\n\tOrdinal0 [0x001C24D0+1058000]\n\tOrdinal0 [0x001ED914+1235220]\n\tOrdinal0 [0x001E3787+1193863]\n\tOrdinal0 [0x00205943+1333571]\n\tOrdinal0 [0x001E35A6+1193382]\n\tOrdinal0 [0x00205A2A+1333802]\n\tOrdinal0 [0x00215038+1396792]\n\tOrdinal0 [0x0020580B+1333259]\n\tOrdinal0 [0x001E2314+1188628]\n\tOrdinal0 [0x001E316F+1192303]\n\tGetHandleVerifier [0x004A7BF6+1548950]\n\tGetHandleVerifier [0x0055461C+2256060]\n\tGetHandleVerifier [0x003AC13B+518107]\n\tGetHandleVerifier [0x003AB1E0+514176]\n\tOrdinal0 [0x002BF53D+2094397]\n\tOrdinal0 [0x002C3418+2110488]\n\tOrdinal0 [0x002C3552+2110802]\n\tOrdinal0 [0x002CCE81+2150017]\n\tBaseThreadInitThunk [0x7586FA29+25]\n\tRtlGetAppContainerNamedObjectPath [0x77127A9E+286]\n\tRtlGetAppContainerNamedObjectPath [0x77127A6E+238]\n\t(No symbol) [0x00000000]\n",
     "output_type": "error",
     "traceback": [
      "\u001b[1;31m---------------------------------------------------------------------------\u001b[0m",
      "\u001b[1;31mElementNotInteractableException\u001b[0m           Traceback (most recent call last)",
      "\u001b[1;32m<ipython-input-126-f3702380edf2>\u001b[0m in \u001b[0;36m<module>\u001b[1;34m\u001b[0m\n\u001b[0;32m      1\u001b[0m \u001b[1;31m#Click on Suggestion\u001b[0m\u001b[1;33m\u001b[0m\u001b[1;33m\u001b[0m\u001b[1;33m\u001b[0m\u001b[0m\n\u001b[1;32m----> 2\u001b[1;33m \u001b[0mdriver\u001b[0m\u001b[1;33m.\u001b[0m\u001b[0mfind_elements_by_xpath\u001b[0m\u001b[1;33m(\u001b[0m\u001b[1;34m'//div[@class=\"suggestion_wrap tt-suggestion tt-selectable\"]'\u001b[0m\u001b[1;33m)\u001b[0m\u001b[1;33m[\u001b[0m\u001b[1;36m0\u001b[0m\u001b[1;33m]\u001b[0m\u001b[1;33m.\u001b[0m\u001b[0mclick\u001b[0m\u001b[1;33m(\u001b[0m\u001b[1;33m)\u001b[0m\u001b[1;33m\u001b[0m\u001b[1;33m\u001b[0m\u001b[0m\n\u001b[0m",
      "\u001b[1;32m~\\anaconda3\\lib\\site-packages\\selenium\\webdriver\\remote\\webelement.py\u001b[0m in \u001b[0;36mclick\u001b[1;34m(self)\u001b[0m\n\u001b[0;32m     78\u001b[0m     \u001b[1;32mdef\u001b[0m \u001b[0mclick\u001b[0m\u001b[1;33m(\u001b[0m\u001b[0mself\u001b[0m\u001b[1;33m)\u001b[0m \u001b[1;33m->\u001b[0m \u001b[1;32mNone\u001b[0m\u001b[1;33m:\u001b[0m\u001b[1;33m\u001b[0m\u001b[1;33m\u001b[0m\u001b[0m\n\u001b[0;32m     79\u001b[0m         \u001b[1;34m\"\"\"Clicks the element.\"\"\"\u001b[0m\u001b[1;33m\u001b[0m\u001b[1;33m\u001b[0m\u001b[0m\n\u001b[1;32m---> 80\u001b[1;33m         \u001b[0mself\u001b[0m\u001b[1;33m.\u001b[0m\u001b[0m_execute\u001b[0m\u001b[1;33m(\u001b[0m\u001b[0mCommand\u001b[0m\u001b[1;33m.\u001b[0m\u001b[0mCLICK_ELEMENT\u001b[0m\u001b[1;33m)\u001b[0m\u001b[1;33m\u001b[0m\u001b[1;33m\u001b[0m\u001b[0m\n\u001b[0m\u001b[0;32m     81\u001b[0m \u001b[1;33m\u001b[0m\u001b[0m\n\u001b[0;32m     82\u001b[0m     \u001b[1;32mdef\u001b[0m \u001b[0msubmit\u001b[0m\u001b[1;33m(\u001b[0m\u001b[0mself\u001b[0m\u001b[1;33m)\u001b[0m\u001b[1;33m:\u001b[0m\u001b[1;33m\u001b[0m\u001b[1;33m\u001b[0m\u001b[0m\n",
      "\u001b[1;32m~\\anaconda3\\lib\\site-packages\\selenium\\webdriver\\remote\\webelement.py\u001b[0m in \u001b[0;36m_execute\u001b[1;34m(self, command, params)\u001b[0m\n\u001b[0;32m    691\u001b[0m             \u001b[0mparams\u001b[0m \u001b[1;33m=\u001b[0m \u001b[1;33m{\u001b[0m\u001b[1;33m}\u001b[0m\u001b[1;33m\u001b[0m\u001b[1;33m\u001b[0m\u001b[0m\n\u001b[0;32m    692\u001b[0m         \u001b[0mparams\u001b[0m\u001b[1;33m[\u001b[0m\u001b[1;34m'id'\u001b[0m\u001b[1;33m]\u001b[0m \u001b[1;33m=\u001b[0m \u001b[0mself\u001b[0m\u001b[1;33m.\u001b[0m\u001b[0m_id\u001b[0m\u001b[1;33m\u001b[0m\u001b[1;33m\u001b[0m\u001b[0m\n\u001b[1;32m--> 693\u001b[1;33m         \u001b[1;32mreturn\u001b[0m \u001b[0mself\u001b[0m\u001b[1;33m.\u001b[0m\u001b[0m_parent\u001b[0m\u001b[1;33m.\u001b[0m\u001b[0mexecute\u001b[0m\u001b[1;33m(\u001b[0m\u001b[0mcommand\u001b[0m\u001b[1;33m,\u001b[0m \u001b[0mparams\u001b[0m\u001b[1;33m)\u001b[0m\u001b[1;33m\u001b[0m\u001b[1;33m\u001b[0m\u001b[0m\n\u001b[0m\u001b[0;32m    694\u001b[0m \u001b[1;33m\u001b[0m\u001b[0m\n\u001b[0;32m    695\u001b[0m     \u001b[1;32mdef\u001b[0m \u001b[0mfind_element\u001b[0m\u001b[1;33m(\u001b[0m\u001b[0mself\u001b[0m\u001b[1;33m,\u001b[0m \u001b[0mby\u001b[0m\u001b[1;33m=\u001b[0m\u001b[0mBy\u001b[0m\u001b[1;33m.\u001b[0m\u001b[0mID\u001b[0m\u001b[1;33m,\u001b[0m \u001b[0mvalue\u001b[0m\u001b[1;33m=\u001b[0m\u001b[1;32mNone\u001b[0m\u001b[1;33m)\u001b[0m\u001b[1;33m:\u001b[0m\u001b[1;33m\u001b[0m\u001b[1;33m\u001b[0m\u001b[0m\n",
      "\u001b[1;32m~\\anaconda3\\lib\\site-packages\\selenium\\webdriver\\remote\\webdriver.py\u001b[0m in \u001b[0;36mexecute\u001b[1;34m(self, driver_command, params)\u001b[0m\n\u001b[0;32m    416\u001b[0m         \u001b[0mresponse\u001b[0m \u001b[1;33m=\u001b[0m \u001b[0mself\u001b[0m\u001b[1;33m.\u001b[0m\u001b[0mcommand_executor\u001b[0m\u001b[1;33m.\u001b[0m\u001b[0mexecute\u001b[0m\u001b[1;33m(\u001b[0m\u001b[0mdriver_command\u001b[0m\u001b[1;33m,\u001b[0m \u001b[0mparams\u001b[0m\u001b[1;33m)\u001b[0m\u001b[1;33m\u001b[0m\u001b[1;33m\u001b[0m\u001b[0m\n\u001b[0;32m    417\u001b[0m         \u001b[1;32mif\u001b[0m \u001b[0mresponse\u001b[0m\u001b[1;33m:\u001b[0m\u001b[1;33m\u001b[0m\u001b[1;33m\u001b[0m\u001b[0m\n\u001b[1;32m--> 418\u001b[1;33m             \u001b[0mself\u001b[0m\u001b[1;33m.\u001b[0m\u001b[0merror_handler\u001b[0m\u001b[1;33m.\u001b[0m\u001b[0mcheck_response\u001b[0m\u001b[1;33m(\u001b[0m\u001b[0mresponse\u001b[0m\u001b[1;33m)\u001b[0m\u001b[1;33m\u001b[0m\u001b[1;33m\u001b[0m\u001b[0m\n\u001b[0m\u001b[0;32m    419\u001b[0m             response['value'] = self._unwrap_value(\n\u001b[0;32m    420\u001b[0m                 response.get('value', None))\n",
      "\u001b[1;32m~\\anaconda3\\lib\\site-packages\\selenium\\webdriver\\remote\\errorhandler.py\u001b[0m in \u001b[0;36mcheck_response\u001b[1;34m(self, response)\u001b[0m\n\u001b[0;32m    241\u001b[0m                 \u001b[0malert_text\u001b[0m \u001b[1;33m=\u001b[0m \u001b[0mvalue\u001b[0m\u001b[1;33m[\u001b[0m\u001b[1;34m'alert'\u001b[0m\u001b[1;33m]\u001b[0m\u001b[1;33m.\u001b[0m\u001b[0mget\u001b[0m\u001b[1;33m(\u001b[0m\u001b[1;34m'text'\u001b[0m\u001b[1;33m)\u001b[0m\u001b[1;33m\u001b[0m\u001b[1;33m\u001b[0m\u001b[0m\n\u001b[0;32m    242\u001b[0m             \u001b[1;32mraise\u001b[0m \u001b[0mexception_class\u001b[0m\u001b[1;33m(\u001b[0m\u001b[0mmessage\u001b[0m\u001b[1;33m,\u001b[0m \u001b[0mscreen\u001b[0m\u001b[1;33m,\u001b[0m \u001b[0mstacktrace\u001b[0m\u001b[1;33m,\u001b[0m \u001b[0malert_text\u001b[0m\u001b[1;33m)\u001b[0m  \u001b[1;31m# type: ignore[call-arg]  # mypy is not smart enough here\u001b[0m\u001b[1;33m\u001b[0m\u001b[1;33m\u001b[0m\u001b[0m\n\u001b[1;32m--> 243\u001b[1;33m         \u001b[1;32mraise\u001b[0m \u001b[0mexception_class\u001b[0m\u001b[1;33m(\u001b[0m\u001b[0mmessage\u001b[0m\u001b[1;33m,\u001b[0m \u001b[0mscreen\u001b[0m\u001b[1;33m,\u001b[0m \u001b[0mstacktrace\u001b[0m\u001b[1;33m)\u001b[0m\u001b[1;33m\u001b[0m\u001b[1;33m\u001b[0m\u001b[0m\n\u001b[0m\u001b[0;32m    244\u001b[0m \u001b[1;33m\u001b[0m\u001b[0m\n\u001b[0;32m    245\u001b[0m     \u001b[1;32mdef\u001b[0m \u001b[0m_value_or_default\u001b[0m\u001b[1;33m(\u001b[0m\u001b[0mself\u001b[0m\u001b[1;33m,\u001b[0m \u001b[0mobj\u001b[0m\u001b[1;33m:\u001b[0m \u001b[0mMapping\u001b[0m\u001b[1;33m[\u001b[0m\u001b[0m_KT\u001b[0m\u001b[1;33m,\u001b[0m \u001b[0m_VT\u001b[0m\u001b[1;33m]\u001b[0m\u001b[1;33m,\u001b[0m \u001b[0mkey\u001b[0m\u001b[1;33m:\u001b[0m \u001b[0m_KT\u001b[0m\u001b[1;33m,\u001b[0m \u001b[0mdefault\u001b[0m\u001b[1;33m:\u001b[0m \u001b[0m_VT\u001b[0m\u001b[1;33m)\u001b[0m \u001b[1;33m->\u001b[0m \u001b[0m_VT\u001b[0m\u001b[1;33m:\u001b[0m\u001b[1;33m\u001b[0m\u001b[1;33m\u001b[0m\u001b[0m\n",
      "\u001b[1;31mElementNotInteractableException\u001b[0m: Message: element not interactable\n  (Session info: chrome=95.0.4638.69)\nStacktrace:\nBacktrace:\n\tOrdinal0 [0x00320C43+2493507]\n\tOrdinal0 [0x002BA4B1+2073777]\n\tOrdinal0 [0x001C24D0+1058000]\n\tOrdinal0 [0x001ED914+1235220]\n\tOrdinal0 [0x001E3787+1193863]\n\tOrdinal0 [0x00205943+1333571]\n\tOrdinal0 [0x001E35A6+1193382]\n\tOrdinal0 [0x00205A2A+1333802]\n\tOrdinal0 [0x00215038+1396792]\n\tOrdinal0 [0x0020580B+1333259]\n\tOrdinal0 [0x001E2314+1188628]\n\tOrdinal0 [0x001E316F+1192303]\n\tGetHandleVerifier [0x004A7BF6+1548950]\n\tGetHandleVerifier [0x0055461C+2256060]\n\tGetHandleVerifier [0x003AC13B+518107]\n\tGetHandleVerifier [0x003AB1E0+514176]\n\tOrdinal0 [0x002BF53D+2094397]\n\tOrdinal0 [0x002C3418+2110488]\n\tOrdinal0 [0x002C3552+2110802]\n\tOrdinal0 [0x002CCE81+2150017]\n\tBaseThreadInitThunk [0x7586FA29+25]\n\tRtlGetAppContainerNamedObjectPath [0x77127A9E+286]\n\tRtlGetAppContainerNamedObjectPath [0x77127A6E+238]\n\t(No symbol) [0x00000000]\n"
     ]
    }
   ],
   "source": [
    "#Click on Suggestion\n",
    "driver.find_elements_by_xpath('//div[@class=\"suggestion_wrap tt-suggestion tt-selectable\"]')[0].click()"
   ]
  },
  {
   "cell_type": "code",
   "execution_count": 127,
   "id": "03733c9f",
   "metadata": {},
   "outputs": [
    {
     "data": {
      "text/html": [
       "<div>\n",
       "<style scoped>\n",
       "    .dataframe tbody tr th:only-of-type {\n",
       "        vertical-align: middle;\n",
       "    }\n",
       "\n",
       "    .dataframe tbody tr th {\n",
       "        vertical-align: top;\n",
       "    }\n",
       "\n",
       "    .dataframe thead th {\n",
       "        text-align: right;\n",
       "    }\n",
       "</style>\n",
       "<table border=\"1\" class=\"dataframe\">\n",
       "  <thead>\n",
       "    <tr style=\"text-align: right;\">\n",
       "      <th></th>\n",
       "      <th>Company Name</th>\n",
       "      <th>Salary Record</th>\n",
       "      <th>Average Salary</th>\n",
       "      <th>Minimum Salary</th>\n",
       "      <th>Maximum Salary</th>\n",
       "      <th>Experience Require</th>\n",
       "    </tr>\n",
       "  </thead>\n",
       "  <tbody>\n",
       "    <tr>\n",
       "      <th>0</th>\n",
       "      <td>Microsoft Corporation</td>\n",
       "      <td>based on 209 salaries</td>\n",
       "      <td>₹ 22.4L</td>\n",
       "      <td>₹ 12.0L</td>\n",
       "      <td>₹ 45.0L</td>\n",
       "      <td>1-4 yrs exp</td>\n",
       "    </tr>\n",
       "    <tr>\n",
       "      <th>1</th>\n",
       "      <td>Goldman Sachs</td>\n",
       "      <td>based on 10 salaries</td>\n",
       "      <td>₹ 21.2L</td>\n",
       "      <td>₹ 16.0L</td>\n",
       "      <td>₹ 30.0L</td>\n",
       "      <td>2 yrs exp</td>\n",
       "    </tr>\n",
       "    <tr>\n",
       "      <th>2</th>\n",
       "      <td>Flipkart</td>\n",
       "      <td>based on 51 salaries</td>\n",
       "      <td>₹ 20.8L</td>\n",
       "      <td>₹ 7.0L</td>\n",
       "      <td>₹ 30.0L</td>\n",
       "      <td>1-4 yrs exp</td>\n",
       "    </tr>\n",
       "    <tr>\n",
       "      <th>3</th>\n",
       "      <td>Amazon</td>\n",
       "      <td>based on 75 salaries</td>\n",
       "      <td>₹ 19.2L</td>\n",
       "      <td>₹ 8.0L</td>\n",
       "      <td>₹ 40.0L</td>\n",
       "      <td>1-4 yrs exp</td>\n",
       "    </tr>\n",
       "    <tr>\n",
       "      <th>4</th>\n",
       "      <td>Servicenow Software Development India</td>\n",
       "      <td>based on 25 salaries</td>\n",
       "      <td>₹ 18.2L</td>\n",
       "      <td>₹ 13.0L</td>\n",
       "      <td>₹ 25.0L</td>\n",
       "      <td>2-3 yrs exp</td>\n",
       "    </tr>\n",
       "    <tr>\n",
       "      <th>5</th>\n",
       "      <td>ServiceNow</td>\n",
       "      <td>based on 15 salaries</td>\n",
       "      <td>₹ 18.0L</td>\n",
       "      <td>₹ 11.2L</td>\n",
       "      <td>₹ 23.0L</td>\n",
       "      <td>3 yrs exp</td>\n",
       "    </tr>\n",
       "    <tr>\n",
       "      <th>6</th>\n",
       "      <td>Walmart</td>\n",
       "      <td>based on 70 salaries</td>\n",
       "      <td>₹ 17.9L</td>\n",
       "      <td>₹ 10.0L</td>\n",
       "      <td>₹ 32.0L</td>\n",
       "      <td>1-4 yrs exp</td>\n",
       "    </tr>\n",
       "    <tr>\n",
       "      <th>7</th>\n",
       "      <td>Arcesium</td>\n",
       "      <td>based on 54 salaries</td>\n",
       "      <td>₹ 17.7L</td>\n",
       "      <td>₹ 12.0L</td>\n",
       "      <td>₹ 30.0L</td>\n",
       "      <td>1-2 yrs exp</td>\n",
       "    </tr>\n",
       "    <tr>\n",
       "      <th>8</th>\n",
       "      <td>PayPal</td>\n",
       "      <td>based on 12 salaries</td>\n",
       "      <td>₹ 17.6L</td>\n",
       "      <td>₹ 12.0L</td>\n",
       "      <td>₹ 23.0L</td>\n",
       "      <td>1 yr exp</td>\n",
       "    </tr>\n",
       "    <tr>\n",
       "      <th>9</th>\n",
       "      <td>Visa</td>\n",
       "      <td>based on 26 salaries</td>\n",
       "      <td>₹ 17.1L</td>\n",
       "      <td>₹ 13.0L</td>\n",
       "      <td>₹ 23.0L</td>\n",
       "      <td>1-2 yrs exp</td>\n",
       "    </tr>\n",
       "  </tbody>\n",
       "</table>\n",
       "</div>"
      ],
      "text/plain": [
       "                            Company Name          Salary Record  \\\n",
       "0                  Microsoft Corporation  based on 209 salaries   \n",
       "1                          Goldman Sachs   based on 10 salaries   \n",
       "2                               Flipkart   based on 51 salaries   \n",
       "3                                 Amazon   based on 75 salaries   \n",
       "4  Servicenow Software Development India   based on 25 salaries   \n",
       "5                             ServiceNow   based on 15 salaries   \n",
       "6                                Walmart   based on 70 salaries   \n",
       "7                               Arcesium   based on 54 salaries   \n",
       "8                                 PayPal   based on 12 salaries   \n",
       "9                                   Visa   based on 26 salaries   \n",
       "\n",
       "  Average Salary Minimum Salary Maximum Salary Experience Require  \n",
       "0        ₹ 22.4L        ₹ 12.0L        ₹ 45.0L        1-4 yrs exp  \n",
       "1        ₹ 21.2L        ₹ 16.0L        ₹ 30.0L          2 yrs exp  \n",
       "2        ₹ 20.8L         ₹ 7.0L        ₹ 30.0L        1-4 yrs exp  \n",
       "3        ₹ 19.2L         ₹ 8.0L        ₹ 40.0L        1-4 yrs exp  \n",
       "4        ₹ 18.2L        ₹ 13.0L        ₹ 25.0L        2-3 yrs exp  \n",
       "5        ₹ 18.0L        ₹ 11.2L        ₹ 23.0L          3 yrs exp  \n",
       "6        ₹ 17.9L        ₹ 10.0L        ₹ 32.0L        1-4 yrs exp  \n",
       "7        ₹ 17.7L        ₹ 12.0L        ₹ 30.0L        1-2 yrs exp  \n",
       "8        ₹ 17.6L        ₹ 12.0L        ₹ 23.0L           1 yr exp  \n",
       "9        ₹ 17.1L        ₹ 13.0L        ₹ 23.0L        1-2 yrs exp  "
      ]
     },
     "execution_count": 127,
     "metadata": {},
     "output_type": "execute_result"
    }
   ],
   "source": [
    "#creating empty list\n",
    "company_list = []\n",
    "salary_rcord_list = []\n",
    "average_list = []\n",
    "minimum_list = []\n",
    "maximum_list = []\n",
    "experience_list = []\n",
    "\n",
    "\n",
    "#Extract Company Name And Salary Records\n",
    "company_data = driver.find_elements_by_xpath('//div[@class=\"name\"]')\n",
    "for i in company_data:\n",
    "    data = i.text.split('\\n')\n",
    "    company_list.append(data[0])    \n",
    "    salary_rcord_list.append(data[1])\n",
    "    \n",
    "#Extract experience required    \n",
    "experience_data = driver.find_elements_by_xpath('//div[@class=\"salaries sbold-list-header\"]')\n",
    "for i in experience_data:\n",
    "    data = i.text.split('\\n')\n",
    "    experience_list.append(data[2])\n",
    "\n",
    "#Extract average salary, minimum salary, maximum salary    \n",
    "salary_data = driver.find_elements_by_xpath('//div[@class=\"salary-range-wrapper\"]')\n",
    "for i in salary_data:\n",
    "    data = i.text.split('\\n')\n",
    "    average_list.append(data[0])\n",
    "    minimum_list.append(data[1])\n",
    "    maximum_list.append(data[2])\n",
    "\n",
    "# Prepare Data Frame\n",
    "df = pd.DataFrame({'Company Name': company_list[0:10], 'Salary Record': salary_rcord_list[0:10], 'Average Salary':average_list, 'Minimum Salary':minimum_list[0:10], 'Maximum Salary':maximum_list, 'Experience Require':experience_list})\n",
    "df"
   ]
  },
  {
   "cell_type": "code",
   "execution_count": null,
   "id": "a71e193c",
   "metadata": {},
   "outputs": [],
   "source": []
  }
 ],
 "metadata": {
  "kernelspec": {
   "display_name": "Python 3",
   "language": "python",
   "name": "python3"
  },
  "language_info": {
   "codemirror_mode": {
    "name": "ipython",
    "version": 3
   },
   "file_extension": ".py",
   "mimetype": "text/x-python",
   "name": "python",
   "nbconvert_exporter": "python",
   "pygments_lexer": "ipython3",
   "version": "3.8.8"
  }
 },
 "nbformat": 4,
 "nbformat_minor": 5
}
